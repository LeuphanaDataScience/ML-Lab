# -*- coding: utf-8 -*-
"""
Created on Wed Dec 30 22:00:35 2020

This file implements Random Forest on the Spotify Popularity Score Prediction

@author: Chan Le
"""

import numpy as np
import pandas as pd
from sklearn.preprocessing import StandardScaler
from sklearn.ensemble import RandomForestRegressor
from sklearn.metrics import mean_absolute_error
from sklearn.metrics import mean_squared_error

# Control panel
scoreNormalized = False
featureNormalized = True

# Load data
X_t = pd.read_csv("data/X_t.csv")
X_tr = pd.read_csv("data/X_tr.csv")
y_t = pd.read_csv("data/y_t.csv")
y_tr = pd.read_csv("data/y_tr.csv")

# Rename ID column
for data in [X_t, X_tr, y_t, y_tr]:
    data = data.rename(columns= {"Unnamed: 0":"ID"}, inplace= True)

# Set ID column aside
ID_t = X_t["ID"]
ID_tr = X_tr["ID"]

# Drop ID column 
X_t = X_t.drop("ID", axis = 1)
X_tr = X_tr.drop("ID", axis = 1)
y_t = y_t.drop("ID", axis = 1)
y_tr = y_tr.drop("ID", axis = 1)

# Normalize popularity score
if scoreNormalized == True:
    
    # Calculate mean and std for the training set
    trainStd = np.std(y_tr["popularity"])
    trainMean = np.mean(y_tr["popularity"])
    
    # Normalize training set and test set based on training set parameter
    y_tr["popularity"] = (y_tr["popularity"]  - trainMean) / trainStd
    y_t["popularity"] = (y_t["popularity"]  - trainMean) / trainStd
 
# Normalize features   
if featureNormalized == True: 
    # Calculate mean and std for the training set
    scaler = StandardScaler().fit(X_tr.loc[:,"acousticness":"valence"])
    
    # Normalize training set
    X_tr.loc[:,"acousticness":"valence"] = scaler.transform(X_tr.loc[:,"acousticness":"valence"])
    
    # Normalize test set based on training set param eter
    X_t.loc[:,"acousticness":"valence"] = scaler.transform(X_t.loc[:,"acousticness":"valence"])
    
# Convert column into 1D array (for training labels)
y_tr = np.array(y_tr).ravel()

RFModel = RandomForestRegressor(n_estimators = 100, random_state = 42)
RFModel.fit(X_tr, np.array(y_tr))

prediction = RFModel.predict(X_t)

mean_squared_error(y_t, prediction)
