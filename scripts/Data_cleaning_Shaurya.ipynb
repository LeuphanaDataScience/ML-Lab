{
 "cells": [
  {
   "cell_type": "code",
   "execution_count": 1,
   "metadata": {},
   "outputs": [],
   "source": [
    "import pandas as pd\n",
    "import numpy as np\n",
    "import random\n",
    "import matplotlib.pyplot as plt\n",
    "%config IPCompleter.greedy=True #to enable intellisense: see it when hitting tab\n",
    "from sklearn.preprocessing import LabelEncoder # integer-encoding: to transform categorical variable into integer\n",
    "from sklearn.preprocessing import OneHotEncoder  # OneHot-encoding\n",
    "from sklearn.compose import ColumnTransformer #needed for OneHot-encoding\n",
    "from sklearn.preprocessing import LabelEncoder  #needed for OneHot-encoding\n",
    "from sklearn.preprocessing import StandardScaler # to scale our data\n",
    "from sklearn.decomposition import PCA #PCA"
   ]
  },
  {
   "cell_type": "code",
   "execution_count": 2,
   "metadata": {},
   "outputs": [],
   "source": [
    "# Set seed\n",
    "\n",
    "random.seed(2312)"
   ]
  },
  {
   "cell_type": "markdown",
   "metadata": {},
   "source": [
    "# Data prepocessing:"
   ]
  },
  {
   "cell_type": "code",
   "execution_count": 3,
   "metadata": {},
   "outputs": [],
   "source": [
    "music_df = pd.read_csv(\"C:/Users/Shaurya/Documents/GitHub/ML-Lab/data/SpotifyFeatures.csv\") "
   ]
  },
  {
   "cell_type": "code",
   "execution_count": 4,
   "metadata": {},
   "outputs": [
    {
     "data": {
      "text/plain": [
       "False"
      ]
     },
     "execution_count": 4,
     "metadata": {},
     "output_type": "execute_result"
    }
   ],
   "source": [
    "#check for NA's in Dataframe:\n",
    "music_df.isnull().values.any()"
   ]
  },
  {
   "cell_type": "code",
   "execution_count": 5,
   "metadata": {},
   "outputs": [
    {
     "name": "stdout",
     "output_type": "stream",
     "text": [
      "Series([], dtype: bool)\n"
     ]
    }
   ],
   "source": [
    "#search for duplicates:\n",
    "search = pd.DataFrame.duplicated(music_df)\n",
    "print(search[search == True])#no duplicates"
   ]
  },
  {
   "cell_type": "code",
   "execution_count": 6,
   "metadata": {},
   "outputs": [
    {
     "data": {
      "text/html": [
       "<div>\n",
       "<style scoped>\n",
       "    .dataframe tbody tr th:only-of-type {\n",
       "        vertical-align: middle;\n",
       "    }\n",
       "\n",
       "    .dataframe tbody tr th {\n",
       "        vertical-align: top;\n",
       "    }\n",
       "\n",
       "    .dataframe thead th {\n",
       "        text-align: right;\n",
       "    }\n",
       "</style>\n",
       "<table border=\"1\" class=\"dataframe\">\n",
       "  <thead>\n",
       "    <tr style=\"text-align: right;\">\n",
       "      <th></th>\n",
       "      <th>genre</th>\n",
       "      <th>artist_name</th>\n",
       "      <th>track_name</th>\n",
       "      <th>track_id</th>\n",
       "      <th>popularity</th>\n",
       "      <th>acousticness</th>\n",
       "      <th>danceability</th>\n",
       "      <th>duration_ms</th>\n",
       "      <th>energy</th>\n",
       "      <th>instrumentalness</th>\n",
       "      <th>key</th>\n",
       "      <th>liveness</th>\n",
       "      <th>loudness</th>\n",
       "      <th>mode</th>\n",
       "      <th>speechiness</th>\n",
       "      <th>tempo</th>\n",
       "      <th>time_signature</th>\n",
       "      <th>valence</th>\n",
       "    </tr>\n",
       "  </thead>\n",
       "  <tbody>\n",
       "    <tr>\n",
       "      <th>0</th>\n",
       "      <td>Movie</td>\n",
       "      <td>Henri Salvador</td>\n",
       "      <td>C'est beau de faire un Show</td>\n",
       "      <td>0BRjO6ga9RKCKjfDqeFgWV</td>\n",
       "      <td>0</td>\n",
       "      <td>0.611</td>\n",
       "      <td>0.389</td>\n",
       "      <td>99373</td>\n",
       "      <td>0.910</td>\n",
       "      <td>0.000</td>\n",
       "      <td>C#</td>\n",
       "      <td>0.3460</td>\n",
       "      <td>-1.828</td>\n",
       "      <td>Major</td>\n",
       "      <td>0.0525</td>\n",
       "      <td>166.969</td>\n",
       "      <td>4/4</td>\n",
       "      <td>0.814</td>\n",
       "    </tr>\n",
       "    <tr>\n",
       "      <th>1</th>\n",
       "      <td>Movie</td>\n",
       "      <td>Martin &amp; les fées</td>\n",
       "      <td>Perdu d'avance (par Gad Elmaleh)</td>\n",
       "      <td>0BjC1NfoEOOusryehmNudP</td>\n",
       "      <td>1</td>\n",
       "      <td>0.246</td>\n",
       "      <td>0.590</td>\n",
       "      <td>137373</td>\n",
       "      <td>0.737</td>\n",
       "      <td>0.000</td>\n",
       "      <td>F#</td>\n",
       "      <td>0.1510</td>\n",
       "      <td>-5.559</td>\n",
       "      <td>Minor</td>\n",
       "      <td>0.0868</td>\n",
       "      <td>174.003</td>\n",
       "      <td>4/4</td>\n",
       "      <td>0.816</td>\n",
       "    </tr>\n",
       "    <tr>\n",
       "      <th>2</th>\n",
       "      <td>Movie</td>\n",
       "      <td>Joseph Williams</td>\n",
       "      <td>Don't Let Me Be Lonely Tonight</td>\n",
       "      <td>0CoSDzoNIKCRs124s9uTVy</td>\n",
       "      <td>3</td>\n",
       "      <td>0.952</td>\n",
       "      <td>0.663</td>\n",
       "      <td>170267</td>\n",
       "      <td>0.131</td>\n",
       "      <td>0.000</td>\n",
       "      <td>C</td>\n",
       "      <td>0.1030</td>\n",
       "      <td>-13.879</td>\n",
       "      <td>Minor</td>\n",
       "      <td>0.0362</td>\n",
       "      <td>99.488</td>\n",
       "      <td>5/4</td>\n",
       "      <td>0.368</td>\n",
       "    </tr>\n",
       "    <tr>\n",
       "      <th>3</th>\n",
       "      <td>Movie</td>\n",
       "      <td>Henri Salvador</td>\n",
       "      <td>Dis-moi Monsieur Gordon Cooper</td>\n",
       "      <td>0Gc6TVm52BwZD07Ki6tIvf</td>\n",
       "      <td>0</td>\n",
       "      <td>0.703</td>\n",
       "      <td>0.240</td>\n",
       "      <td>152427</td>\n",
       "      <td>0.326</td>\n",
       "      <td>0.000</td>\n",
       "      <td>C#</td>\n",
       "      <td>0.0985</td>\n",
       "      <td>-12.178</td>\n",
       "      <td>Major</td>\n",
       "      <td>0.0395</td>\n",
       "      <td>171.758</td>\n",
       "      <td>4/4</td>\n",
       "      <td>0.227</td>\n",
       "    </tr>\n",
       "    <tr>\n",
       "      <th>4</th>\n",
       "      <td>Movie</td>\n",
       "      <td>Fabien Nataf</td>\n",
       "      <td>Ouverture</td>\n",
       "      <td>0IuslXpMROHdEPvSl1fTQK</td>\n",
       "      <td>4</td>\n",
       "      <td>0.950</td>\n",
       "      <td>0.331</td>\n",
       "      <td>82625</td>\n",
       "      <td>0.225</td>\n",
       "      <td>0.123</td>\n",
       "      <td>F</td>\n",
       "      <td>0.2020</td>\n",
       "      <td>-21.150</td>\n",
       "      <td>Major</td>\n",
       "      <td>0.0456</td>\n",
       "      <td>140.576</td>\n",
       "      <td>4/4</td>\n",
       "      <td>0.390</td>\n",
       "    </tr>\n",
       "  </tbody>\n",
       "</table>\n",
       "</div>"
      ],
      "text/plain": [
       "   genre        artist_name                        track_name  \\\n",
       "0  Movie     Henri Salvador       C'est beau de faire un Show   \n",
       "1  Movie  Martin & les fées  Perdu d'avance (par Gad Elmaleh)   \n",
       "2  Movie    Joseph Williams    Don't Let Me Be Lonely Tonight   \n",
       "3  Movie     Henri Salvador    Dis-moi Monsieur Gordon Cooper   \n",
       "4  Movie       Fabien Nataf                         Ouverture   \n",
       "\n",
       "                 track_id  popularity  acousticness  danceability  \\\n",
       "0  0BRjO6ga9RKCKjfDqeFgWV           0         0.611         0.389   \n",
       "1  0BjC1NfoEOOusryehmNudP           1         0.246         0.590   \n",
       "2  0CoSDzoNIKCRs124s9uTVy           3         0.952         0.663   \n",
       "3  0Gc6TVm52BwZD07Ki6tIvf           0         0.703         0.240   \n",
       "4  0IuslXpMROHdEPvSl1fTQK           4         0.950         0.331   \n",
       "\n",
       "   duration_ms  energy  instrumentalness key  liveness  loudness   mode  \\\n",
       "0        99373   0.910             0.000  C#    0.3460    -1.828  Major   \n",
       "1       137373   0.737             0.000  F#    0.1510    -5.559  Minor   \n",
       "2       170267   0.131             0.000   C    0.1030   -13.879  Minor   \n",
       "3       152427   0.326             0.000  C#    0.0985   -12.178  Major   \n",
       "4        82625   0.225             0.123   F    0.2020   -21.150  Major   \n",
       "\n",
       "   speechiness    tempo time_signature  valence  \n",
       "0       0.0525  166.969            4/4    0.814  \n",
       "1       0.0868  174.003            4/4    0.816  \n",
       "2       0.0362   99.488            5/4    0.368  \n",
       "3       0.0395  171.758            4/4    0.227  \n",
       "4       0.0456  140.576            4/4    0.390  "
      ]
     },
     "execution_count": 6,
     "metadata": {},
     "output_type": "execute_result"
    }
   ],
   "source": [
    "music_df.head()"
   ]
  },
  {
   "cell_type": "markdown",
   "metadata": {},
   "source": [
    "### Variables:\n",
    "- popularity: ?\n",
    "- key: The estimated overall key of the track. Integers map to pitches using standard Pitch Class notation (E.g.: 0 = C)\n",
    "- mode: modality (major or minor) of a track (Major = 1 and Minor = 0) ? \n",
    "- time_signature:  estimated overall time signature (Taktangabe) of a track. Its a notational convention to specify how many beats are in each bar (or measure).\n",
    "- title: maybe there is a way to also include strings? \n",
    "- genre: one-hot encoding\n",
    "- track id: integer encoding"
   ]
  },
  {
   "cell_type": "markdown",
   "metadata": {},
   "source": [
    "## Transform variables:"
   ]
  },
  {
   "cell_type": "markdown",
   "metadata": {},
   "source": [
    "### 1. key:"
   ]
  },
  {
   "cell_type": "code",
   "execution_count": 7,
   "metadata": {},
   "outputs": [
    {
     "data": {
      "text/plain": [
       "C     27583\n",
       "G     26390\n",
       "D     24077\n",
       "C#    23201\n",
       "A     22671\n",
       "F     20279\n",
       "B     17661\n",
       "E     17390\n",
       "A#    15526\n",
       "F#    15222\n",
       "G#    15159\n",
       "D#     7566\n",
       "Name: key, dtype: int64"
      ]
     },
     "execution_count": 7,
     "metadata": {},
     "output_type": "execute_result"
    }
   ],
   "source": [
    "music_df[\"key\"].value_counts()"
   ]
  },
  {
   "cell_type": "code",
   "execution_count": 8,
   "metadata": {},
   "outputs": [
    {
     "data": {
      "text/html": [
       "<div>\n",
       "<style scoped>\n",
       "    .dataframe tbody tr th:only-of-type {\n",
       "        vertical-align: middle;\n",
       "    }\n",
       "\n",
       "    .dataframe tbody tr th {\n",
       "        vertical-align: top;\n",
       "    }\n",
       "\n",
       "    .dataframe thead th {\n",
       "        text-align: right;\n",
       "    }\n",
       "</style>\n",
       "<table border=\"1\" class=\"dataframe\">\n",
       "  <thead>\n",
       "    <tr style=\"text-align: right;\">\n",
       "      <th></th>\n",
       "      <th>genre</th>\n",
       "      <th>artist_name</th>\n",
       "      <th>track_name</th>\n",
       "      <th>track_id</th>\n",
       "      <th>popularity</th>\n",
       "      <th>acousticness</th>\n",
       "      <th>danceability</th>\n",
       "      <th>duration_ms</th>\n",
       "      <th>energy</th>\n",
       "      <th>instrumentalness</th>\n",
       "      <th>key</th>\n",
       "      <th>liveness</th>\n",
       "      <th>loudness</th>\n",
       "      <th>mode</th>\n",
       "      <th>speechiness</th>\n",
       "      <th>tempo</th>\n",
       "      <th>time_signature</th>\n",
       "      <th>valence</th>\n",
       "    </tr>\n",
       "  </thead>\n",
       "  <tbody>\n",
       "    <tr>\n",
       "      <th>0</th>\n",
       "      <td>Movie</td>\n",
       "      <td>Henri Salvador</td>\n",
       "      <td>C'est beau de faire un Show</td>\n",
       "      <td>0BRjO6ga9RKCKjfDqeFgWV</td>\n",
       "      <td>0</td>\n",
       "      <td>0.611</td>\n",
       "      <td>0.389</td>\n",
       "      <td>99373</td>\n",
       "      <td>0.910</td>\n",
       "      <td>0.000</td>\n",
       "      <td>1</td>\n",
       "      <td>0.3460</td>\n",
       "      <td>-1.828</td>\n",
       "      <td>Major</td>\n",
       "      <td>0.0525</td>\n",
       "      <td>166.969</td>\n",
       "      <td>4/4</td>\n",
       "      <td>0.814</td>\n",
       "    </tr>\n",
       "    <tr>\n",
       "      <th>1</th>\n",
       "      <td>Movie</td>\n",
       "      <td>Martin &amp; les fées</td>\n",
       "      <td>Perdu d'avance (par Gad Elmaleh)</td>\n",
       "      <td>0BjC1NfoEOOusryehmNudP</td>\n",
       "      <td>1</td>\n",
       "      <td>0.246</td>\n",
       "      <td>0.590</td>\n",
       "      <td>137373</td>\n",
       "      <td>0.737</td>\n",
       "      <td>0.000</td>\n",
       "      <td>6</td>\n",
       "      <td>0.1510</td>\n",
       "      <td>-5.559</td>\n",
       "      <td>Minor</td>\n",
       "      <td>0.0868</td>\n",
       "      <td>174.003</td>\n",
       "      <td>4/4</td>\n",
       "      <td>0.816</td>\n",
       "    </tr>\n",
       "    <tr>\n",
       "      <th>2</th>\n",
       "      <td>Movie</td>\n",
       "      <td>Joseph Williams</td>\n",
       "      <td>Don't Let Me Be Lonely Tonight</td>\n",
       "      <td>0CoSDzoNIKCRs124s9uTVy</td>\n",
       "      <td>3</td>\n",
       "      <td>0.952</td>\n",
       "      <td>0.663</td>\n",
       "      <td>170267</td>\n",
       "      <td>0.131</td>\n",
       "      <td>0.000</td>\n",
       "      <td>0</td>\n",
       "      <td>0.1030</td>\n",
       "      <td>-13.879</td>\n",
       "      <td>Minor</td>\n",
       "      <td>0.0362</td>\n",
       "      <td>99.488</td>\n",
       "      <td>5/4</td>\n",
       "      <td>0.368</td>\n",
       "    </tr>\n",
       "    <tr>\n",
       "      <th>3</th>\n",
       "      <td>Movie</td>\n",
       "      <td>Henri Salvador</td>\n",
       "      <td>Dis-moi Monsieur Gordon Cooper</td>\n",
       "      <td>0Gc6TVm52BwZD07Ki6tIvf</td>\n",
       "      <td>0</td>\n",
       "      <td>0.703</td>\n",
       "      <td>0.240</td>\n",
       "      <td>152427</td>\n",
       "      <td>0.326</td>\n",
       "      <td>0.000</td>\n",
       "      <td>1</td>\n",
       "      <td>0.0985</td>\n",
       "      <td>-12.178</td>\n",
       "      <td>Major</td>\n",
       "      <td>0.0395</td>\n",
       "      <td>171.758</td>\n",
       "      <td>4/4</td>\n",
       "      <td>0.227</td>\n",
       "    </tr>\n",
       "    <tr>\n",
       "      <th>4</th>\n",
       "      <td>Movie</td>\n",
       "      <td>Fabien Nataf</td>\n",
       "      <td>Ouverture</td>\n",
       "      <td>0IuslXpMROHdEPvSl1fTQK</td>\n",
       "      <td>4</td>\n",
       "      <td>0.950</td>\n",
       "      <td>0.331</td>\n",
       "      <td>82625</td>\n",
       "      <td>0.225</td>\n",
       "      <td>0.123</td>\n",
       "      <td>5</td>\n",
       "      <td>0.2020</td>\n",
       "      <td>-21.150</td>\n",
       "      <td>Major</td>\n",
       "      <td>0.0456</td>\n",
       "      <td>140.576</td>\n",
       "      <td>4/4</td>\n",
       "      <td>0.390</td>\n",
       "    </tr>\n",
       "  </tbody>\n",
       "</table>\n",
       "</div>"
      ],
      "text/plain": [
       "   genre        artist_name                        track_name  \\\n",
       "0  Movie     Henri Salvador       C'est beau de faire un Show   \n",
       "1  Movie  Martin & les fées  Perdu d'avance (par Gad Elmaleh)   \n",
       "2  Movie    Joseph Williams    Don't Let Me Be Lonely Tonight   \n",
       "3  Movie     Henri Salvador    Dis-moi Monsieur Gordon Cooper   \n",
       "4  Movie       Fabien Nataf                         Ouverture   \n",
       "\n",
       "                 track_id  popularity  acousticness  danceability  \\\n",
       "0  0BRjO6ga9RKCKjfDqeFgWV           0         0.611         0.389   \n",
       "1  0BjC1NfoEOOusryehmNudP           1         0.246         0.590   \n",
       "2  0CoSDzoNIKCRs124s9uTVy           3         0.952         0.663   \n",
       "3  0Gc6TVm52BwZD07Ki6tIvf           0         0.703         0.240   \n",
       "4  0IuslXpMROHdEPvSl1fTQK           4         0.950         0.331   \n",
       "\n",
       "   duration_ms  energy  instrumentalness  key  liveness  loudness   mode  \\\n",
       "0        99373   0.910             0.000    1    0.3460    -1.828  Major   \n",
       "1       137373   0.737             0.000    6    0.1510    -5.559  Minor   \n",
       "2       170267   0.131             0.000    0    0.1030   -13.879  Minor   \n",
       "3       152427   0.326             0.000    1    0.0985   -12.178  Major   \n",
       "4        82625   0.225             0.123    5    0.2020   -21.150  Major   \n",
       "\n",
       "   speechiness    tempo time_signature  valence  \n",
       "0       0.0525  166.969            4/4    0.814  \n",
       "1       0.0868  174.003            4/4    0.816  \n",
       "2       0.0362   99.488            5/4    0.368  \n",
       "3       0.0395  171.758            4/4    0.227  \n",
       "4       0.0456  140.576            4/4    0.390  "
      ]
     },
     "execution_count": 8,
     "metadata": {},
     "output_type": "execute_result"
    }
   ],
   "source": [
    "## we are not using an integer encoder here because the numbers for the nodes are predetermined\n",
    "# create dictionary for integer mapping:\n",
    "key_mapping = {\"C\": 0,\"G\": 7,\"D\": 2, \"C#\": 1, \"A\": 9, \"F\": 5, \"B\": 11, \"E\": 4, \"A#\": 10, \"F#\": 6, \"G#\": 8, \"D#\": 3}\n",
    "# map the nodes to integers:\n",
    "music_df[\"key\"] = music_df.key.map(key_mapping)\n",
    "music_df.head()"
   ]
  },
  {
   "cell_type": "markdown",
   "metadata": {},
   "source": [
    "### 2. Genre:"
   ]
  },
  {
   "cell_type": "code",
   "execution_count": 9,
   "metadata": {
    "scrolled": false
   },
   "outputs": [
    {
     "data": {
      "text/plain": [
       "Comedy              9681\n",
       "Soundtrack          9646\n",
       "Indie               9543\n",
       "Jazz                9441\n",
       "Pop                 9386\n",
       "Electronic          9377\n",
       "Children’s Music    9353\n",
       "Folk                9299\n",
       "Hip-Hop             9295\n",
       "Rock                9272\n",
       "Alternative         9263\n",
       "Classical           9256\n",
       "Rap                 9232\n",
       "World               9096\n",
       "Soul                9089\n",
       "Blues               9023\n",
       "R&B                 8992\n",
       "Anime               8936\n",
       "Reggaeton           8927\n",
       "Ska                 8874\n",
       "Reggae              8771\n",
       "Dance               8701\n",
       "Country             8664\n",
       "Opera               8280\n",
       "Movie               7806\n",
       "Children's Music    5403\n",
       "A Capella            119\n",
       "Name: genre, dtype: int64"
      ]
     },
     "execution_count": 9,
     "metadata": {},
     "output_type": "execute_result"
    }
   ],
   "source": [
    "music_df[\"genre\"].value_counts()"
   ]
  },
  {
   "cell_type": "markdown",
   "metadata": {},
   "source": [
    "#### Hot-encoding of variable genre: "
   ]
  },
  {
   "cell_type": "code",
   "execution_count": 10,
   "metadata": {},
   "outputs": [],
   "source": [
    "# creating dummy dataframe\n",
    "dum_df = pd.get_dummies(music_df[\"genre\"], columns=[\"genre\"], prefix=\"genre_is\")\n",
    "music_df = music_df.join(dum_df)\n",
    "music_df = music_df.drop([\"genre\"],1)"
   ]
  },
  {
   "cell_type": "code",
   "execution_count": 11,
   "metadata": {},
   "outputs": [
    {
     "data": {
      "text/plain": [
       "['artist_name',\n",
       " 'track_name',\n",
       " 'track_id',\n",
       " 'popularity',\n",
       " 'acousticness',\n",
       " 'danceability',\n",
       " 'duration_ms',\n",
       " 'energy',\n",
       " 'instrumentalness',\n",
       " 'key',\n",
       " 'liveness',\n",
       " 'loudness',\n",
       " 'mode',\n",
       " 'speechiness',\n",
       " 'tempo',\n",
       " 'time_signature',\n",
       " 'valence',\n",
       " 'genre_is_A Capella',\n",
       " 'genre_is_Alternative',\n",
       " 'genre_is_Anime',\n",
       " 'genre_is_Blues',\n",
       " \"genre_is_Children's Music\",\n",
       " 'genre_is_Children’s Music',\n",
       " 'genre_is_Classical',\n",
       " 'genre_is_Comedy',\n",
       " 'genre_is_Country',\n",
       " 'genre_is_Dance',\n",
       " 'genre_is_Electronic',\n",
       " 'genre_is_Folk',\n",
       " 'genre_is_Hip-Hop',\n",
       " 'genre_is_Indie',\n",
       " 'genre_is_Jazz',\n",
       " 'genre_is_Movie',\n",
       " 'genre_is_Opera',\n",
       " 'genre_is_Pop',\n",
       " 'genre_is_R&B',\n",
       " 'genre_is_Rap',\n",
       " 'genre_is_Reggae',\n",
       " 'genre_is_Reggaeton',\n",
       " 'genre_is_Rock',\n",
       " 'genre_is_Ska',\n",
       " 'genre_is_Soul',\n",
       " 'genre_is_Soundtrack',\n",
       " 'genre_is_World']"
      ]
     },
     "execution_count": 11,
     "metadata": {},
     "output_type": "execute_result"
    }
   ],
   "source": [
    "list(music_df.columns)"
   ]
  },
  {
   "cell_type": "code",
   "execution_count": 12,
   "metadata": {},
   "outputs": [],
   "source": [
    "# fixing the extra Childrenäs music dummy\n",
    "music_df[\"genre_is_Children_music\"] = music_df[\"genre_is_Children's Music\"] + music_df[\"genre_is_Children’s Music\"]"
   ]
  },
  {
   "cell_type": "code",
   "execution_count": 13,
   "metadata": {},
   "outputs": [
    {
     "data": {
      "text/plain": [
       "count    232725.000000\n",
       "mean          0.063405\n",
       "std           0.243691\n",
       "min           0.000000\n",
       "25%           0.000000\n",
       "50%           0.000000\n",
       "75%           0.000000\n",
       "max           1.000000\n",
       "Name: genre_is_Children_music, dtype: float64"
      ]
     },
     "execution_count": 13,
     "metadata": {},
     "output_type": "execute_result"
    }
   ],
   "source": [
    "music_df[\"genre_is_Children_music\"].describe()"
   ]
  },
  {
   "cell_type": "code",
   "execution_count": 14,
   "metadata": {
    "scrolled": true
   },
   "outputs": [],
   "source": [
    "music_df = music_df.drop(columns=[\"genre_is_Children's Music\"])\n"
   ]
  },
  {
   "cell_type": "code",
   "execution_count": 15,
   "metadata": {},
   "outputs": [],
   "source": [
    "music_df = music_df.drop(columns=[\"genre_is_Children’s Music\"])"
   ]
  },
  {
   "cell_type": "code",
   "execution_count": 16,
   "metadata": {},
   "outputs": [],
   "source": [
    "# dropping additional dummy\n",
    "music_df = music_df.drop(columns=[\"genre_is_A Capella\"])"
   ]
  },
  {
   "cell_type": "code",
   "execution_count": 17,
   "metadata": {},
   "outputs": [
    {
     "data": {
      "text/plain": [
       "['artist_name',\n",
       " 'track_name',\n",
       " 'track_id',\n",
       " 'popularity',\n",
       " 'acousticness',\n",
       " 'danceability',\n",
       " 'duration_ms',\n",
       " 'energy',\n",
       " 'instrumentalness',\n",
       " 'key',\n",
       " 'liveness',\n",
       " 'loudness',\n",
       " 'mode',\n",
       " 'speechiness',\n",
       " 'tempo',\n",
       " 'time_signature',\n",
       " 'valence',\n",
       " 'genre_is_Alternative',\n",
       " 'genre_is_Anime',\n",
       " 'genre_is_Blues',\n",
       " 'genre_is_Classical',\n",
       " 'genre_is_Comedy',\n",
       " 'genre_is_Country',\n",
       " 'genre_is_Dance',\n",
       " 'genre_is_Electronic',\n",
       " 'genre_is_Folk',\n",
       " 'genre_is_Hip-Hop',\n",
       " 'genre_is_Indie',\n",
       " 'genre_is_Jazz',\n",
       " 'genre_is_Movie',\n",
       " 'genre_is_Opera',\n",
       " 'genre_is_Pop',\n",
       " 'genre_is_R&B',\n",
       " 'genre_is_Rap',\n",
       " 'genre_is_Reggae',\n",
       " 'genre_is_Reggaeton',\n",
       " 'genre_is_Rock',\n",
       " 'genre_is_Ska',\n",
       " 'genre_is_Soul',\n",
       " 'genre_is_Soundtrack',\n",
       " 'genre_is_World',\n",
       " 'genre_is_Children_music']"
      ]
     },
     "execution_count": 17,
     "metadata": {},
     "output_type": "execute_result"
    }
   ],
   "source": [
    "list(music_df.columns)"
   ]
  },
  {
   "cell_type": "code",
   "execution_count": 18,
   "metadata": {},
   "outputs": [
    {
     "data": {
      "text/plain": [
       "42"
      ]
     },
     "execution_count": 18,
     "metadata": {},
     "output_type": "execute_result"
    }
   ],
   "source": [
    "len(music_df.columns)"
   ]
  },
  {
   "cell_type": "markdown",
   "metadata": {},
   "source": [
    "## 3. Mode:"
   ]
  },
  {
   "cell_type": "code",
   "execution_count": 19,
   "metadata": {},
   "outputs": [
    {
     "data": {
      "text/plain": [
       "Major    151744\n",
       "Minor     80981\n",
       "Name: mode, dtype: int64"
      ]
     },
     "execution_count": 19,
     "metadata": {},
     "output_type": "execute_result"
    }
   ],
   "source": [
    "music_df[\"mode\"].value_counts()"
   ]
  },
  {
   "cell_type": "code",
   "execution_count": 20,
   "metadata": {},
   "outputs": [],
   "source": [
    "music_df[\"mode\"] = music_df[\"mode\"].replace({\"Major\": 1, \"Minor\":0})\n",
    "music_df.rename(columns={\"mode\" : \"Mode is Major\"}, inplace=True)\n"
   ]
  },
  {
   "cell_type": "code",
   "execution_count": 21,
   "metadata": {},
   "outputs": [
    {
     "data": {
      "text/plain": [
       "1    151744\n",
       "0     80981\n",
       "Name: Mode is Major, dtype: int64"
      ]
     },
     "execution_count": 21,
     "metadata": {},
     "output_type": "execute_result"
    }
   ],
   "source": [
    "music_df[\"Mode is Major\"].value_counts()"
   ]
  },
  {
   "cell_type": "markdown",
   "metadata": {},
   "source": [
    "### 4. time_signature"
   ]
  },
  {
   "cell_type": "markdown",
   "metadata": {},
   "source": [
    "I will transform the string into a fraction (float) (if thats correct? -> music expert Chan what do you think?)"
   ]
  },
  {
   "cell_type": "code",
   "execution_count": 22,
   "metadata": {},
   "outputs": [
    {
     "data": {
      "text/plain": [
       "4/4    200760\n",
       "3/4     24111\n",
       "5/4      5238\n",
       "1/4      2608\n",
       "0/4         8\n",
       "Name: time_signature, dtype: int64"
      ]
     },
     "execution_count": 22,
     "metadata": {},
     "output_type": "execute_result"
    }
   ],
   "source": [
    "music_df[\"time_signature\"].value_counts()"
   ]
  },
  {
   "cell_type": "code",
   "execution_count": 23,
   "metadata": {
    "scrolled": true
   },
   "outputs": [
    {
     "data": {
      "text/plain": [
       "1.00    200760\n",
       "0.75     24111\n",
       "1.25      5238\n",
       "0.25      2608\n",
       "0.00         8\n",
       "Name: time_signature, dtype: int64"
      ]
     },
     "execution_count": 23,
     "metadata": {},
     "output_type": "execute_result"
    }
   ],
   "source": [
    "# create dictionary for integer mapping:\n",
    "time_signature_mapping = {\"4/4\": 1,\"3/4\": 3/4,\"5/4\": 5/4, \"1/4\": 1/4, \"0/4\": 0}\n",
    "# map the nodes to integers:\n",
    "music_df[\"time_signature\"] = music_df.time_signature.map(time_signature_mapping)\n",
    "music_df[\"time_signature\"].value_counts()"
   ]
  },
  {
   "cell_type": "code",
   "execution_count": 24,
   "metadata": {},
   "outputs": [],
   "source": [
    "# fixing wrong encoding\n",
    "music_df.time_signature.replace((1,0.75,1.25,0.25,0), ('4/4','3/4','5/4','1/4','0/4'), inplace=True)\n",
    "music_df['time_signature'] = music_df['time_signature'].astype(object)\n",
    "dum_df = pd.get_dummies(music_df[\"time_signature\"], columns=[\"time_signature\"], prefix=\"time_sig_is\")\n",
    "music_df = music_df.join(dum_df)\n",
    "music_df = music_df.drop([\"time_signature\"],1)\n",
    "\n",
    "# removing the extra dummy to avoid the dummy variable trap\n",
    "music_df = music_df.drop(columns=['time_sig_is_0/4'])"
   ]
  },
  {
   "cell_type": "code",
   "execution_count": 25,
   "metadata": {},
   "outputs": [
    {
     "data": {
      "text/plain": [
       "['artist_name',\n",
       " 'track_name',\n",
       " 'track_id',\n",
       " 'popularity',\n",
       " 'acousticness',\n",
       " 'danceability',\n",
       " 'duration_ms',\n",
       " 'energy',\n",
       " 'instrumentalness',\n",
       " 'key',\n",
       " 'liveness',\n",
       " 'loudness',\n",
       " 'Mode is Major',\n",
       " 'speechiness',\n",
       " 'tempo',\n",
       " 'valence',\n",
       " 'genre_is_Alternative',\n",
       " 'genre_is_Anime',\n",
       " 'genre_is_Blues',\n",
       " 'genre_is_Classical',\n",
       " 'genre_is_Comedy',\n",
       " 'genre_is_Country',\n",
       " 'genre_is_Dance',\n",
       " 'genre_is_Electronic',\n",
       " 'genre_is_Folk',\n",
       " 'genre_is_Hip-Hop',\n",
       " 'genre_is_Indie',\n",
       " 'genre_is_Jazz',\n",
       " 'genre_is_Movie',\n",
       " 'genre_is_Opera',\n",
       " 'genre_is_Pop',\n",
       " 'genre_is_R&B',\n",
       " 'genre_is_Rap',\n",
       " 'genre_is_Reggae',\n",
       " 'genre_is_Reggaeton',\n",
       " 'genre_is_Rock',\n",
       " 'genre_is_Ska',\n",
       " 'genre_is_Soul',\n",
       " 'genre_is_Soundtrack',\n",
       " 'genre_is_World',\n",
       " 'genre_is_Children_music',\n",
       " 'time_sig_is_1/4',\n",
       " 'time_sig_is_3/4',\n",
       " 'time_sig_is_4/4',\n",
       " 'time_sig_is_5/4']"
      ]
     },
     "execution_count": 25,
     "metadata": {},
     "output_type": "execute_result"
    }
   ],
   "source": [
    "# viewing the final cleaned dataset\n",
    "list(music_df.columns)"
   ]
  },
  {
   "cell_type": "code",
   "execution_count": 26,
   "metadata": {},
   "outputs": [
    {
     "data": {
      "text/html": [
       "<div>\n",
       "<style scoped>\n",
       "    .dataframe tbody tr th:only-of-type {\n",
       "        vertical-align: middle;\n",
       "    }\n",
       "\n",
       "    .dataframe tbody tr th {\n",
       "        vertical-align: top;\n",
       "    }\n",
       "\n",
       "    .dataframe thead th {\n",
       "        text-align: right;\n",
       "    }\n",
       "</style>\n",
       "<table border=\"1\" class=\"dataframe\">\n",
       "  <thead>\n",
       "    <tr style=\"text-align: right;\">\n",
       "      <th></th>\n",
       "      <th>artist_name</th>\n",
       "      <th>track_name</th>\n",
       "      <th>track_id</th>\n",
       "      <th>popularity</th>\n",
       "      <th>acousticness</th>\n",
       "      <th>danceability</th>\n",
       "      <th>duration_ms</th>\n",
       "      <th>energy</th>\n",
       "      <th>instrumentalness</th>\n",
       "      <th>key</th>\n",
       "      <th>...</th>\n",
       "      <th>genre_is_Rock</th>\n",
       "      <th>genre_is_Ska</th>\n",
       "      <th>genre_is_Soul</th>\n",
       "      <th>genre_is_Soundtrack</th>\n",
       "      <th>genre_is_World</th>\n",
       "      <th>genre_is_Children_music</th>\n",
       "      <th>time_sig_is_1/4</th>\n",
       "      <th>time_sig_is_3/4</th>\n",
       "      <th>time_sig_is_4/4</th>\n",
       "      <th>time_sig_is_5/4</th>\n",
       "    </tr>\n",
       "  </thead>\n",
       "  <tbody>\n",
       "    <tr>\n",
       "      <th>0</th>\n",
       "      <td>Henri Salvador</td>\n",
       "      <td>C'est beau de faire un Show</td>\n",
       "      <td>0BRjO6ga9RKCKjfDqeFgWV</td>\n",
       "      <td>0</td>\n",
       "      <td>0.611</td>\n",
       "      <td>0.389</td>\n",
       "      <td>99373</td>\n",
       "      <td>0.910</td>\n",
       "      <td>0.000</td>\n",
       "      <td>1</td>\n",
       "      <td>...</td>\n",
       "      <td>0</td>\n",
       "      <td>0</td>\n",
       "      <td>0</td>\n",
       "      <td>0</td>\n",
       "      <td>0</td>\n",
       "      <td>0</td>\n",
       "      <td>0</td>\n",
       "      <td>0</td>\n",
       "      <td>1</td>\n",
       "      <td>0</td>\n",
       "    </tr>\n",
       "    <tr>\n",
       "      <th>1</th>\n",
       "      <td>Martin &amp; les fées</td>\n",
       "      <td>Perdu d'avance (par Gad Elmaleh)</td>\n",
       "      <td>0BjC1NfoEOOusryehmNudP</td>\n",
       "      <td>1</td>\n",
       "      <td>0.246</td>\n",
       "      <td>0.590</td>\n",
       "      <td>137373</td>\n",
       "      <td>0.737</td>\n",
       "      <td>0.000</td>\n",
       "      <td>6</td>\n",
       "      <td>...</td>\n",
       "      <td>0</td>\n",
       "      <td>0</td>\n",
       "      <td>0</td>\n",
       "      <td>0</td>\n",
       "      <td>0</td>\n",
       "      <td>0</td>\n",
       "      <td>0</td>\n",
       "      <td>0</td>\n",
       "      <td>1</td>\n",
       "      <td>0</td>\n",
       "    </tr>\n",
       "    <tr>\n",
       "      <th>2</th>\n",
       "      <td>Joseph Williams</td>\n",
       "      <td>Don't Let Me Be Lonely Tonight</td>\n",
       "      <td>0CoSDzoNIKCRs124s9uTVy</td>\n",
       "      <td>3</td>\n",
       "      <td>0.952</td>\n",
       "      <td>0.663</td>\n",
       "      <td>170267</td>\n",
       "      <td>0.131</td>\n",
       "      <td>0.000</td>\n",
       "      <td>0</td>\n",
       "      <td>...</td>\n",
       "      <td>0</td>\n",
       "      <td>0</td>\n",
       "      <td>0</td>\n",
       "      <td>0</td>\n",
       "      <td>0</td>\n",
       "      <td>0</td>\n",
       "      <td>0</td>\n",
       "      <td>0</td>\n",
       "      <td>0</td>\n",
       "      <td>1</td>\n",
       "    </tr>\n",
       "    <tr>\n",
       "      <th>3</th>\n",
       "      <td>Henri Salvador</td>\n",
       "      <td>Dis-moi Monsieur Gordon Cooper</td>\n",
       "      <td>0Gc6TVm52BwZD07Ki6tIvf</td>\n",
       "      <td>0</td>\n",
       "      <td>0.703</td>\n",
       "      <td>0.240</td>\n",
       "      <td>152427</td>\n",
       "      <td>0.326</td>\n",
       "      <td>0.000</td>\n",
       "      <td>1</td>\n",
       "      <td>...</td>\n",
       "      <td>0</td>\n",
       "      <td>0</td>\n",
       "      <td>0</td>\n",
       "      <td>0</td>\n",
       "      <td>0</td>\n",
       "      <td>0</td>\n",
       "      <td>0</td>\n",
       "      <td>0</td>\n",
       "      <td>1</td>\n",
       "      <td>0</td>\n",
       "    </tr>\n",
       "    <tr>\n",
       "      <th>4</th>\n",
       "      <td>Fabien Nataf</td>\n",
       "      <td>Ouverture</td>\n",
       "      <td>0IuslXpMROHdEPvSl1fTQK</td>\n",
       "      <td>4</td>\n",
       "      <td>0.950</td>\n",
       "      <td>0.331</td>\n",
       "      <td>82625</td>\n",
       "      <td>0.225</td>\n",
       "      <td>0.123</td>\n",
       "      <td>5</td>\n",
       "      <td>...</td>\n",
       "      <td>0</td>\n",
       "      <td>0</td>\n",
       "      <td>0</td>\n",
       "      <td>0</td>\n",
       "      <td>0</td>\n",
       "      <td>0</td>\n",
       "      <td>0</td>\n",
       "      <td>0</td>\n",
       "      <td>1</td>\n",
       "      <td>0</td>\n",
       "    </tr>\n",
       "  </tbody>\n",
       "</table>\n",
       "<p>5 rows × 45 columns</p>\n",
       "</div>"
      ],
      "text/plain": [
       "         artist_name                        track_name  \\\n",
       "0     Henri Salvador       C'est beau de faire un Show   \n",
       "1  Martin & les fées  Perdu d'avance (par Gad Elmaleh)   \n",
       "2    Joseph Williams    Don't Let Me Be Lonely Tonight   \n",
       "3     Henri Salvador    Dis-moi Monsieur Gordon Cooper   \n",
       "4       Fabien Nataf                         Ouverture   \n",
       "\n",
       "                 track_id  popularity  acousticness  danceability  \\\n",
       "0  0BRjO6ga9RKCKjfDqeFgWV           0         0.611         0.389   \n",
       "1  0BjC1NfoEOOusryehmNudP           1         0.246         0.590   \n",
       "2  0CoSDzoNIKCRs124s9uTVy           3         0.952         0.663   \n",
       "3  0Gc6TVm52BwZD07Ki6tIvf           0         0.703         0.240   \n",
       "4  0IuslXpMROHdEPvSl1fTQK           4         0.950         0.331   \n",
       "\n",
       "   duration_ms  energy  instrumentalness  key  ...  genre_is_Rock  \\\n",
       "0        99373   0.910             0.000    1  ...              0   \n",
       "1       137373   0.737             0.000    6  ...              0   \n",
       "2       170267   0.131             0.000    0  ...              0   \n",
       "3       152427   0.326             0.000    1  ...              0   \n",
       "4        82625   0.225             0.123    5  ...              0   \n",
       "\n",
       "   genre_is_Ska  genre_is_Soul  genre_is_Soundtrack  genre_is_World  \\\n",
       "0             0              0                    0               0   \n",
       "1             0              0                    0               0   \n",
       "2             0              0                    0               0   \n",
       "3             0              0                    0               0   \n",
       "4             0              0                    0               0   \n",
       "\n",
       "   genre_is_Children_music  time_sig_is_1/4  time_sig_is_3/4  time_sig_is_4/4  \\\n",
       "0                        0                0                0                1   \n",
       "1                        0                0                0                1   \n",
       "2                        0                0                0                0   \n",
       "3                        0                0                0                1   \n",
       "4                        0                0                0                1   \n",
       "\n",
       "   time_sig_is_5/4  \n",
       "0                0  \n",
       "1                0  \n",
       "2                1  \n",
       "3                0  \n",
       "4                0  \n",
       "\n",
       "[5 rows x 45 columns]"
      ]
     },
     "execution_count": 26,
     "metadata": {},
     "output_type": "execute_result"
    }
   ],
   "source": [
    "music_df.head()"
   ]
  },
  {
   "cell_type": "markdown",
   "metadata": {},
   "source": [
    "## Drop all columns we are not using (string valued):"
   ]
  },
  {
   "cell_type": "markdown",
   "metadata": {},
   "source": [
    "I am also removing track id because I think we dont need it right now "
   ]
  },
  {
   "cell_type": "code",
   "execution_count": 27,
   "metadata": {},
   "outputs": [],
   "source": [
    "music_df = music_df.drop([\"artist_name\",\"track_name\", \"track_id\"],1)"
   ]
  },
  {
   "cell_type": "markdown",
   "metadata": {},
   "source": [
    "## Export Encoded Data"
   ]
  },
  {
   "cell_type": "code",
   "execution_count": 28,
   "metadata": {},
   "outputs": [],
   "source": [
    "pd.DataFrame.to_csv(music_df, \"C:/Users/Shaurya/Documents/GitHub/ML-Lab/data/EncodedData_updated.csv\")"
   ]
  },
  {
   "cell_type": "markdown",
   "metadata": {},
   "source": [
    "# Data Analysis"
   ]
  },
  {
   "cell_type": "markdown",
   "metadata": {},
   "source": [
    "## 1. First Overview "
   ]
  },
  {
   "cell_type": "code",
   "execution_count": 29,
   "metadata": {},
   "outputs": [
    {
     "name": "stdout",
     "output_type": "stream",
     "text": [
      "<class 'pandas.core.frame.DataFrame'>\n",
      "RangeIndex: 232725 entries, 0 to 232724\n",
      "Data columns (total 42 columns):\n",
      " #   Column                   Non-Null Count   Dtype  \n",
      "---  ------                   --------------   -----  \n",
      " 0   popularity               232725 non-null  int64  \n",
      " 1   acousticness             232725 non-null  float64\n",
      " 2   danceability             232725 non-null  float64\n",
      " 3   duration_ms              232725 non-null  int64  \n",
      " 4   energy                   232725 non-null  float64\n",
      " 5   instrumentalness         232725 non-null  float64\n",
      " 6   key                      232725 non-null  int64  \n",
      " 7   liveness                 232725 non-null  float64\n",
      " 8   loudness                 232725 non-null  float64\n",
      " 9   Mode is Major            232725 non-null  int64  \n",
      " 10  speechiness              232725 non-null  float64\n",
      " 11  tempo                    232725 non-null  float64\n",
      " 12  valence                  232725 non-null  float64\n",
      " 13  genre_is_Alternative     232725 non-null  uint8  \n",
      " 14  genre_is_Anime           232725 non-null  uint8  \n",
      " 15  genre_is_Blues           232725 non-null  uint8  \n",
      " 16  genre_is_Classical       232725 non-null  uint8  \n",
      " 17  genre_is_Comedy          232725 non-null  uint8  \n",
      " 18  genre_is_Country         232725 non-null  uint8  \n",
      " 19  genre_is_Dance           232725 non-null  uint8  \n",
      " 20  genre_is_Electronic      232725 non-null  uint8  \n",
      " 21  genre_is_Folk            232725 non-null  uint8  \n",
      " 22  genre_is_Hip-Hop         232725 non-null  uint8  \n",
      " 23  genre_is_Indie           232725 non-null  uint8  \n",
      " 24  genre_is_Jazz            232725 non-null  uint8  \n",
      " 25  genre_is_Movie           232725 non-null  uint8  \n",
      " 26  genre_is_Opera           232725 non-null  uint8  \n",
      " 27  genre_is_Pop             232725 non-null  uint8  \n",
      " 28  genre_is_R&B             232725 non-null  uint8  \n",
      " 29  genre_is_Rap             232725 non-null  uint8  \n",
      " 30  genre_is_Reggae          232725 non-null  uint8  \n",
      " 31  genre_is_Reggaeton       232725 non-null  uint8  \n",
      " 32  genre_is_Rock            232725 non-null  uint8  \n",
      " 33  genre_is_Ska             232725 non-null  uint8  \n",
      " 34  genre_is_Soul            232725 non-null  uint8  \n",
      " 35  genre_is_Soundtrack      232725 non-null  uint8  \n",
      " 36  genre_is_World           232725 non-null  uint8  \n",
      " 37  genre_is_Children_music  232725 non-null  uint8  \n",
      " 38  time_sig_is_1/4          232725 non-null  uint8  \n",
      " 39  time_sig_is_3/4          232725 non-null  uint8  \n",
      " 40  time_sig_is_4/4          232725 non-null  uint8  \n",
      " 41  time_sig_is_5/4          232725 non-null  uint8  \n",
      "dtypes: float64(9), int64(4), uint8(29)\n",
      "memory usage: 29.5 MB\n",
      "None\n"
     ]
    }
   ],
   "source": [
    "print(music_df.info())"
   ]
  },
  {
   "cell_type": "code",
   "execution_count": 30,
   "metadata": {},
   "outputs": [],
   "source": [
    "from sklearn.model_selection import train_test_split \n",
    "from sklearn.model_selection import cross_val_score\n",
    "from sklearn.preprocessing import MinMaxScaler\n",
    "from sklearn import datasets\n",
    "from sklearn.neural_network import MLPRegressor"
   ]
  },
  {
   "cell_type": "code",
   "execution_count": 31,
   "metadata": {},
   "outputs": [],
   "source": [
    "X, y = music_df.drop([\"popularity\"],1) , music_df[\"popularity\"]"
   ]
  },
  {
   "cell_type": "markdown",
   "metadata": {},
   "source": [
    "### Split data into training and test set:"
   ]
  },
  {
   "cell_type": "code",
   "execution_count": 32,
   "metadata": {},
   "outputs": [],
   "source": [
    "X_tr, X_t, y_tr, y_t = train_test_split(X, y, \n",
    "                                        test_size=0.2, \n",
    "                                        random_state=0)"
   ]
  },
  {
   "cell_type": "code",
   "execution_count": 33,
   "metadata": {},
   "outputs": [],
   "source": [
    "# Export to csv\n",
    "\n",
    "X_tr.to_csv(\"C:/Users/Shaurya/Documents/GitHub/ML-Lab/data/X_tr.csv\")\n",
    "X_t.to_csv(\"C:/Users/Shaurya/Documents/GitHub/ML-Lab/data/X_t.csv\")\n",
    "y_tr.to_csv(\"C:/Users/Shaurya/Documents/GitHub/ML-Lab/data/y_tr.csv\")\n",
    "y_t.to_csv(\"C:/Users/Shaurya/Documents/GitHub/ML-Lab/data/y_t.csv\")"
   ]
  }
 ],
 "metadata": {
  "kernelspec": {
   "display_name": "Python 3",
   "language": "python",
   "name": "python3"
  },
  "language_info": {
   "codemirror_mode": {
    "name": "ipython",
    "version": 3
   },
   "file_extension": ".py",
   "mimetype": "text/x-python",
   "name": "python",
   "nbconvert_exporter": "python",
   "pygments_lexer": "ipython3",
   "version": "3.8.5"
  }
 },
 "nbformat": 4,
 "nbformat_minor": 4
}
