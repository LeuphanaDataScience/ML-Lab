{
 "cells": [
  {
   "cell_type": "markdown",
   "metadata": {},
   "source": [
    "# Popularity prediction based on song features from Spotify"
   ]
  },
  {
   "cell_type": "markdown",
   "metadata": {},
   "source": [
    "**by Chân Lê, Lisa Schönrock, and Shaurya D. Singh**"
   ]
  },
  {
   "cell_type": "code",
   "execution_count": 109,
   "metadata": {},
   "outputs": [],
   "source": [
    "# loading required libraries\n",
    "import pandas as pd\n",
    "import numpy as np\n",
    "import seaborn as sns\n",
    "import matplotlib.pyplot as plt\n",
    "from sklearn import preprocessing\n",
    "from sklearn.model_selection import train_test_split\n",
    "from string import ascii_letters\n",
    "sns.set_style(\"whitegrid\", {'axes.grid' : False})"
   ]
  },
  {
   "cell_type": "markdown",
   "metadata": {},
   "source": [
    "## I. Inspecting and preparing the data for exploration"
   ]
  },
  {
   "cell_type": "code",
   "execution_count": 2,
   "metadata": {},
   "outputs": [],
   "source": [
    "# importing the data\n",
    "data = pd.read_csv(\"data/SpotifyFeatures.csv\")"
   ]
  },
  {
   "cell_type": "code",
   "execution_count": 3,
   "metadata": {},
   "outputs": [
    {
     "data": {
      "text/plain": [
       "(232725, 18)"
      ]
     },
     "execution_count": 3,
     "metadata": {},
     "output_type": "execute_result"
    }
   ],
   "source": [
    "# viewing the dataset shape\n",
    "data.shape"
   ]
  },
  {
   "cell_type": "code",
   "execution_count": 4,
   "metadata": {},
   "outputs": [
    {
     "data": {
      "text/plain": [
       "False"
      ]
     },
     "execution_count": 4,
     "metadata": {},
     "output_type": "execute_result"
    }
   ],
   "source": [
    "# checking for missing values - found none\n",
    "data.isnull().values.any() "
   ]
  },
  {
   "cell_type": "code",
   "execution_count": 5,
   "metadata": {},
   "outputs": [
    {
     "data": {
      "text/plain": [
       "0"
      ]
     },
     "execution_count": 5,
     "metadata": {},
     "output_type": "execute_result"
    }
   ],
   "source": [
    "# checking for duplicates - found none\n",
    "len(data)-len(data.drop_duplicates())"
   ]
  },
  {
   "cell_type": "code",
   "execution_count": 6,
   "metadata": {},
   "outputs": [
    {
     "name": "stdout",
     "output_type": "stream",
     "text": [
      "Index(['genre', 'artist_name', 'track_name', 'track_id', 'popularity',\n",
      "       'acousticness', 'danceability', 'duration_ms', 'energy',\n",
      "       'instrumentalness', 'key', 'liveness', 'loudness', 'mode',\n",
      "       'speechiness', 'tempo', 'time_signature', 'valence'],\n",
      "      dtype='object')\n"
     ]
    }
   ],
   "source": [
    "# viewing all the variable names\n",
    "print(data.columns)"
   ]
  },
  {
   "cell_type": "code",
   "execution_count": 7,
   "metadata": {},
   "outputs": [
    {
     "name": "stdout",
     "output_type": "stream",
     "text": [
      "(232725, 17) (232725,)\n"
     ]
    }
   ],
   "source": [
    "# creating the input matrix and target vector\n",
    "X = data.drop(columns=['popularity'])\n",
    "y = data['popularity']\n",
    "print(X.shape, y.shape)"
   ]
  },
  {
   "cell_type": "code",
   "execution_count": 8,
   "metadata": {},
   "outputs": [],
   "source": [
    "# converting the duration variable from micro seconds to minutes\n",
    "X['duration_min'] = X['duration_ms'] / (1000 * 60)\n",
    "X = X.drop(columns=['duration_ms'])"
   ]
  },
  {
   "cell_type": "code",
   "execution_count": 9,
   "metadata": {},
   "outputs": [],
   "source": [
    "# creating the train-test dataset split at 80%-20%\n",
    "X_train, X_test, y_train, y_test = train_test_split(X, y, test_size=0.2, random_state=2)"
   ]
  },
  {
   "cell_type": "code",
   "execution_count": 10,
   "metadata": {},
   "outputs": [
    {
     "data": {
      "text/plain": [
       "41.07281662906864"
      ]
     },
     "execution_count": 10,
     "metadata": {},
     "output_type": "execute_result"
    }
   ],
   "source": [
    "# computing the baseline - mean of the popularity variable\n",
    "y_train.mean()"
   ]
  },
  {
   "cell_type": "code",
   "execution_count": 11,
   "metadata": {},
   "outputs": [
    {
     "data": {
      "text/html": [
       "<div>\n",
       "<style scoped>\n",
       "    .dataframe tbody tr th:only-of-type {\n",
       "        vertical-align: middle;\n",
       "    }\n",
       "\n",
       "    .dataframe tbody tr th {\n",
       "        vertical-align: top;\n",
       "    }\n",
       "\n",
       "    .dataframe thead th {\n",
       "        text-align: right;\n",
       "    }\n",
       "</style>\n",
       "<table border=\"1\" class=\"dataframe\">\n",
       "  <thead>\n",
       "    <tr style=\"text-align: right;\">\n",
       "      <th></th>\n",
       "      <th>genre</th>\n",
       "      <th>artist_name</th>\n",
       "      <th>track_name</th>\n",
       "      <th>track_id</th>\n",
       "      <th>acousticness</th>\n",
       "      <th>danceability</th>\n",
       "      <th>energy</th>\n",
       "      <th>instrumentalness</th>\n",
       "      <th>key</th>\n",
       "      <th>liveness</th>\n",
       "      <th>loudness</th>\n",
       "      <th>mode</th>\n",
       "      <th>speechiness</th>\n",
       "      <th>tempo</th>\n",
       "      <th>time_signature</th>\n",
       "      <th>valence</th>\n",
       "      <th>duration_min</th>\n",
       "    </tr>\n",
       "  </thead>\n",
       "  <tbody>\n",
       "    <tr>\n",
       "      <th>139926</th>\n",
       "      <td>Reggaeton</td>\n",
       "      <td>Justin Quiles</td>\n",
       "      <td>Confusion</td>\n",
       "      <td>6VxjlckNDezOU7w6oqFvgQ</td>\n",
       "      <td>0.119000</td>\n",
       "      <td>0.685</td>\n",
       "      <td>0.775</td>\n",
       "      <td>0.000000</td>\n",
       "      <td>D</td>\n",
       "      <td>0.1100</td>\n",
       "      <td>-6.891</td>\n",
       "      <td>Minor</td>\n",
       "      <td>0.1460</td>\n",
       "      <td>172.039</td>\n",
       "      <td>4/4</td>\n",
       "      <td>0.667</td>\n",
       "      <td>3.585917</td>\n",
       "    </tr>\n",
       "    <tr>\n",
       "      <th>160602</th>\n",
       "      <td>Reggaeton</td>\n",
       "      <td>Boy Wonder CF</td>\n",
       "      <td>Atrévete (feat. Wisin y Yandel &amp; Franco el Gor...</td>\n",
       "      <td>0hvi6FQl4h3zVGC2DVpohG</td>\n",
       "      <td>0.201000</td>\n",
       "      <td>0.884</td>\n",
       "      <td>0.702</td>\n",
       "      <td>0.000000</td>\n",
       "      <td>C</td>\n",
       "      <td>0.0886</td>\n",
       "      <td>-7.960</td>\n",
       "      <td>Minor</td>\n",
       "      <td>0.1000</td>\n",
       "      <td>96.005</td>\n",
       "      <td>4/4</td>\n",
       "      <td>0.803</td>\n",
       "      <td>3.946883</td>\n",
       "    </tr>\n",
       "    <tr>\n",
       "      <th>93667</th>\n",
       "      <td>Indie</td>\n",
       "      <td>Yeah Yeah Yeahs</td>\n",
       "      <td>Maps</td>\n",
       "      <td>0hDQV9X1Da5JrwhK8gu86p</td>\n",
       "      <td>0.000413</td>\n",
       "      <td>0.502</td>\n",
       "      <td>0.940</td>\n",
       "      <td>0.542000</td>\n",
       "      <td>G</td>\n",
       "      <td>0.5530</td>\n",
       "      <td>-5.178</td>\n",
       "      <td>Major</td>\n",
       "      <td>0.0840</td>\n",
       "      <td>119.762</td>\n",
       "      <td>4/4</td>\n",
       "      <td>0.144</td>\n",
       "      <td>3.666450</td>\n",
       "    </tr>\n",
       "    <tr>\n",
       "      <th>16096</th>\n",
       "      <td>Dance</td>\n",
       "      <td>Janelle Monáe</td>\n",
       "      <td>I Got The Juice (feat. Pharrell Williams)</td>\n",
       "      <td>5Yfq9uugLFchtFymQQWxgt</td>\n",
       "      <td>0.075800</td>\n",
       "      <td>0.922</td>\n",
       "      <td>0.485</td>\n",
       "      <td>0.000034</td>\n",
       "      <td>C#</td>\n",
       "      <td>0.6010</td>\n",
       "      <td>-7.259</td>\n",
       "      <td>Major</td>\n",
       "      <td>0.0960</td>\n",
       "      <td>120.156</td>\n",
       "      <td>4/4</td>\n",
       "      <td>0.395</td>\n",
       "      <td>3.771467</td>\n",
       "    </tr>\n",
       "    <tr>\n",
       "      <th>159668</th>\n",
       "      <td>Reggaeton</td>\n",
       "      <td>Los 4</td>\n",
       "      <td>Brindemos por Ella</td>\n",
       "      <td>6hoLlsbL9w03BdGicFZEsn</td>\n",
       "      <td>0.180000</td>\n",
       "      <td>0.626</td>\n",
       "      <td>0.887</td>\n",
       "      <td>0.000022</td>\n",
       "      <td>C#</td>\n",
       "      <td>0.0831</td>\n",
       "      <td>-4.567</td>\n",
       "      <td>Minor</td>\n",
       "      <td>0.0593</td>\n",
       "      <td>106.989</td>\n",
       "      <td>4/4</td>\n",
       "      <td>0.736</td>\n",
       "      <td>4.577333</td>\n",
       "    </tr>\n",
       "  </tbody>\n",
       "</table>\n",
       "</div>"
      ],
      "text/plain": [
       "            genre      artist_name  \\\n",
       "139926  Reggaeton    Justin Quiles   \n",
       "160602  Reggaeton    Boy Wonder CF   \n",
       "93667       Indie  Yeah Yeah Yeahs   \n",
       "16096       Dance    Janelle Monáe   \n",
       "159668  Reggaeton            Los 4   \n",
       "\n",
       "                                               track_name  \\\n",
       "139926                                          Confusion   \n",
       "160602  Atrévete (feat. Wisin y Yandel & Franco el Gor...   \n",
       "93667                                                Maps   \n",
       "16096           I Got The Juice (feat. Pharrell Williams)   \n",
       "159668                                 Brindemos por Ella   \n",
       "\n",
       "                      track_id  acousticness  danceability  energy  \\\n",
       "139926  6VxjlckNDezOU7w6oqFvgQ      0.119000         0.685   0.775   \n",
       "160602  0hvi6FQl4h3zVGC2DVpohG      0.201000         0.884   0.702   \n",
       "93667   0hDQV9X1Da5JrwhK8gu86p      0.000413         0.502   0.940   \n",
       "16096   5Yfq9uugLFchtFymQQWxgt      0.075800         0.922   0.485   \n",
       "159668  6hoLlsbL9w03BdGicFZEsn      0.180000         0.626   0.887   \n",
       "\n",
       "        instrumentalness key  liveness  loudness   mode  speechiness    tempo  \\\n",
       "139926          0.000000   D    0.1100    -6.891  Minor       0.1460  172.039   \n",
       "160602          0.000000   C    0.0886    -7.960  Minor       0.1000   96.005   \n",
       "93667           0.542000   G    0.5530    -5.178  Major       0.0840  119.762   \n",
       "16096           0.000034  C#    0.6010    -7.259  Major       0.0960  120.156   \n",
       "159668          0.000022  C#    0.0831    -4.567  Minor       0.0593  106.989   \n",
       "\n",
       "       time_signature  valence  duration_min  \n",
       "139926            4/4    0.667      3.585917  \n",
       "160602            4/4    0.803      3.946883  \n",
       "93667             4/4    0.144      3.666450  \n",
       "16096             4/4    0.395      3.771467  \n",
       "159668            4/4    0.736      4.577333  "
      ]
     },
     "execution_count": 11,
     "metadata": {},
     "output_type": "execute_result"
    }
   ],
   "source": [
    "# viewing the dataset\n",
    "X_train.head()"
   ]
  },
  {
   "cell_type": "code",
   "execution_count": 12,
   "metadata": {},
   "outputs": [
    {
     "data": {
      "text/html": [
       "<div>\n",
       "<style scoped>\n",
       "    .dataframe tbody tr th:only-of-type {\n",
       "        vertical-align: middle;\n",
       "    }\n",
       "\n",
       "    .dataframe tbody tr th {\n",
       "        vertical-align: top;\n",
       "    }\n",
       "\n",
       "    .dataframe thead th {\n",
       "        text-align: right;\n",
       "    }\n",
       "</style>\n",
       "<table border=\"1\" class=\"dataframe\">\n",
       "  <thead>\n",
       "    <tr style=\"text-align: right;\">\n",
       "      <th></th>\n",
       "      <th>acousticness</th>\n",
       "      <th>danceability</th>\n",
       "      <th>energy</th>\n",
       "      <th>instrumentalness</th>\n",
       "      <th>liveness</th>\n",
       "      <th>loudness</th>\n",
       "      <th>speechiness</th>\n",
       "      <th>tempo</th>\n",
       "      <th>valence</th>\n",
       "      <th>duration_min</th>\n",
       "    </tr>\n",
       "  </thead>\n",
       "  <tbody>\n",
       "    <tr>\n",
       "      <th>count</th>\n",
       "      <td>186180.000000</td>\n",
       "      <td>186180.000000</td>\n",
       "      <td>186180.000000</td>\n",
       "      <td>186180.000000</td>\n",
       "      <td>186180.000000</td>\n",
       "      <td>186180.000000</td>\n",
       "      <td>186180.000000</td>\n",
       "      <td>186180.000000</td>\n",
       "      <td>186180.000000</td>\n",
       "      <td>186180.000000</td>\n",
       "    </tr>\n",
       "    <tr>\n",
       "      <th>mean</th>\n",
       "      <td>0.368939</td>\n",
       "      <td>0.554320</td>\n",
       "      <td>0.570934</td>\n",
       "      <td>0.148665</td>\n",
       "      <td>0.215166</td>\n",
       "      <td>-9.577208</td>\n",
       "      <td>0.120906</td>\n",
       "      <td>117.690968</td>\n",
       "      <td>0.454974</td>\n",
       "      <td>3.916158</td>\n",
       "    </tr>\n",
       "    <tr>\n",
       "      <th>std</th>\n",
       "      <td>0.355110</td>\n",
       "      <td>0.185794</td>\n",
       "      <td>0.263713</td>\n",
       "      <td>0.302968</td>\n",
       "      <td>0.198332</td>\n",
       "      <td>6.005982</td>\n",
       "      <td>0.185930</td>\n",
       "      <td>30.891192</td>\n",
       "      <td>0.260192</td>\n",
       "      <td>1.970354</td>\n",
       "    </tr>\n",
       "    <tr>\n",
       "      <th>min</th>\n",
       "      <td>0.000000</td>\n",
       "      <td>0.057200</td>\n",
       "      <td>0.000020</td>\n",
       "      <td>0.000000</td>\n",
       "      <td>0.009670</td>\n",
       "      <td>-47.669000</td>\n",
       "      <td>0.022200</td>\n",
       "      <td>30.379000</td>\n",
       "      <td>0.000000</td>\n",
       "      <td>0.258483</td>\n",
       "    </tr>\n",
       "    <tr>\n",
       "      <th>25%</th>\n",
       "      <td>0.037500</td>\n",
       "      <td>0.435000</td>\n",
       "      <td>0.385000</td>\n",
       "      <td>0.000000</td>\n",
       "      <td>0.097400</td>\n",
       "      <td>-11.786000</td>\n",
       "      <td>0.036700</td>\n",
       "      <td>92.963000</td>\n",
       "      <td>0.237000</td>\n",
       "      <td>3.044450</td>\n",
       "    </tr>\n",
       "    <tr>\n",
       "      <th>50%</th>\n",
       "      <td>0.232000</td>\n",
       "      <td>0.571000</td>\n",
       "      <td>0.605000</td>\n",
       "      <td>0.000045</td>\n",
       "      <td>0.128000</td>\n",
       "      <td>-7.761000</td>\n",
       "      <td>0.050100</td>\n",
       "      <td>115.877000</td>\n",
       "      <td>0.444000</td>\n",
       "      <td>3.674000</td>\n",
       "    </tr>\n",
       "    <tr>\n",
       "      <th>75%</th>\n",
       "      <td>0.724000</td>\n",
       "      <td>0.692000</td>\n",
       "      <td>0.787000</td>\n",
       "      <td>0.036800</td>\n",
       "      <td>0.264000</td>\n",
       "      <td>-5.500000</td>\n",
       "      <td>0.105000</td>\n",
       "      <td>139.042250</td>\n",
       "      <td>0.660000</td>\n",
       "      <td>4.429333</td>\n",
       "    </tr>\n",
       "    <tr>\n",
       "      <th>max</th>\n",
       "      <td>0.996000</td>\n",
       "      <td>0.989000</td>\n",
       "      <td>0.999000</td>\n",
       "      <td>0.999000</td>\n",
       "      <td>1.000000</td>\n",
       "      <td>3.744000</td>\n",
       "      <td>0.967000</td>\n",
       "      <td>239.848000</td>\n",
       "      <td>1.000000</td>\n",
       "      <td>91.466667</td>\n",
       "    </tr>\n",
       "  </tbody>\n",
       "</table>\n",
       "</div>"
      ],
      "text/plain": [
       "        acousticness   danceability         energy  instrumentalness  \\\n",
       "count  186180.000000  186180.000000  186180.000000     186180.000000   \n",
       "mean        0.368939       0.554320       0.570934          0.148665   \n",
       "std         0.355110       0.185794       0.263713          0.302968   \n",
       "min         0.000000       0.057200       0.000020          0.000000   \n",
       "25%         0.037500       0.435000       0.385000          0.000000   \n",
       "50%         0.232000       0.571000       0.605000          0.000045   \n",
       "75%         0.724000       0.692000       0.787000          0.036800   \n",
       "max         0.996000       0.989000       0.999000          0.999000   \n",
       "\n",
       "            liveness       loudness    speechiness          tempo  \\\n",
       "count  186180.000000  186180.000000  186180.000000  186180.000000   \n",
       "mean        0.215166      -9.577208       0.120906     117.690968   \n",
       "std         0.198332       6.005982       0.185930      30.891192   \n",
       "min         0.009670     -47.669000       0.022200      30.379000   \n",
       "25%         0.097400     -11.786000       0.036700      92.963000   \n",
       "50%         0.128000      -7.761000       0.050100     115.877000   \n",
       "75%         0.264000      -5.500000       0.105000     139.042250   \n",
       "max         1.000000       3.744000       0.967000     239.848000   \n",
       "\n",
       "             valence   duration_min  \n",
       "count  186180.000000  186180.000000  \n",
       "mean        0.454974       3.916158  \n",
       "std         0.260192       1.970354  \n",
       "min         0.000000       0.258483  \n",
       "25%         0.237000       3.044450  \n",
       "50%         0.444000       3.674000  \n",
       "75%         0.660000       4.429333  \n",
       "max         1.000000      91.466667  "
      ]
     },
     "execution_count": 12,
     "metadata": {},
     "output_type": "execute_result"
    }
   ],
   "source": [
    "# obtaining the descriptive statistics of the continuous variables in the dataset\n",
    "X_train.describe()"
   ]
  },
  {
   "cell_type": "code",
   "execution_count": 28,
   "metadata": {},
   "outputs": [
    {
     "data": {
      "text/plain": [
       "139926    54\n",
       "160602    39\n",
       "93667     66\n",
       "16096     60\n",
       "159668    49\n",
       "          ..\n",
       "175638    21\n",
       "95816     51\n",
       "203245    29\n",
       "100879    53\n",
       "89256     65\n",
       "Name: popularity, Length: 186180, dtype: int64"
      ]
     },
     "execution_count": 28,
     "metadata": {},
     "output_type": "execute_result"
    }
   ],
   "source": [
    "# viewing the target vector\n",
    "y_train"
   ]
  },
  {
   "cell_type": "markdown",
   "metadata": {},
   "source": [
    "## II. Data visualization "
   ]
  },
  {
   "cell_type": "markdown",
   "metadata": {},
   "source": [
    "### 1. Histograms for all variables"
   ]
  },
  {
   "cell_type": "markdown",
   "metadata": {},
   "source": [
    "- **Acousticness**: A confidence measure from 0.0 to 1.0 of whether the track is acoustic. 1.0 represents high confidence the track is acoustic.\n",
    "- **Danceability**: Danceability describes how suitable a track is for dancing based on a combination of musical elements including tempo, rhythm stability, beat strength, and overall regularity. A value of 0.0 is least danceable and 1.0 is most danceable.\n",
    "- **Energy**: Energy is a measure from 0.0 to 1.0 and represents a perceptual measure of intensity and activity. Typically, energetic tracks feel fast, loud, and noisy. For example, death metal has high energy, while a Bach prelude scores low on the scale. Perceptual features contributing to this attribute include dynamic range, perceived loudness, timbre, onset rate, and general entropy.\n",
    "- **Instrumentalness**: Predicts whether a track contains no vocals. “Ooh” and “aah” sounds are treated as instrumental in this context. Rap or spoken word tracks are clearly “vocal”. The closer the instrumentalness value is to 1.0, the greater likelihood the track contains no vocal content. Values above 0.5 are intended to represent instrumental tracks, but confidence is higher as the value approaches 1.0.\n",
    "- **Liveness**: Detects the presence of an audience in the recording. Higher liveness values represent an increased probability that the track was performed live. A value above 0.8 provides strong likelihood that the track is live.\n",
    "- **Speechiness**: Speechiness detects the presence of spoken words in a track. The more exclusively speech-like the recording (e.g. talk show, audio book, poetry), the closer to 1.0 the attribute value. Values above 0.66 describe tracks that are probably made entirely of spoken words. Values between 0.33 and 0.66 describe tracks that may contain both music and speech, either in sections or layered, including such cases as rap music. Values below 0.33 most likely represent music and other non-speech-like tracks.\n",
    "- **Valence**: A measure from 0.0 to 1.0 describing the musical positiveness conveyed by a track. Tracks with high valence sound more positive (e.g. happy, cheerful, euphoric), while tracks with low valence sound more negative (e.g. sad, depressed, angry). \n",
    "- **Popularity**: Our target variable. The popularity is calculated by algorithm and is based, in the most part, on the total number of plays the track has had and how recent those plays are. Generally speaking, songs that are being played a lot now will have a higher popularity than songs that were played a lot in the past. Duplicate tracks (e.g. the same track from a single and an album) are rated independently. Artist and album popularity is derived mathematically from track popularity. Note that the popularity value may lag actual popularity by a few days: the value is not updated in real time.\n",
    "- **Loudness**: The overall loudness of a track in decibels (dB). Loudness values are averaged across the entire track and are useful for comparing relative loudness of tracks. Loudness is the quality of a sound that is the primary psychological correlate of physical strength (amplitude).\n",
    "- **Duration**: The duration of the track in minutes.\n",
    "- **Tempo**: The overall estimated tempo of a track in beats per minute (BPM). In musical terminology, tempo is the speed or pace of a given piece and derives directly from the average beat duration. \n"
   ]
  },
  {
   "cell_type": "code",
   "execution_count": 130,
   "metadata": {},
   "outputs": [
    {
     "data": {
      "text/plain": [
       "Text(0.5, 0.98, 'Histograms')"
      ]
     },
     "execution_count": 130,
     "metadata": {},
     "output_type": "execute_result"
    },
    {
     "data": {
      "image/png": "[encoded data removed]",
      "text/plain": [
       "<Figure size 1224x1224 with 12 Axes>"
      ]
     },
     "metadata": {},
     "output_type": "display_data"
    }
   ],
   "source": [
    "# generating histograms for all variables\n",
    "fig, axes = plt.subplots(nrows = 4, ncols = 3, figsize = (17, 17))\n",
    "\n",
    "sns.histplot(ax = axes[0,0], data = X_train, x = \"acousticness\")\n",
    "axes[0,0].set(xlabel = \"Acousticness\")\n",
    "\n",
    "sns.histplot(ax = axes[0,1], data = X_train, x = \"danceability\")\n",
    "axes[0,1].set(xlabel = \"Danceability\")\n",
    "\n",
    "sns.histplot(ax = axes[0,2], data = X_train, x = \"energy\")\n",
    "axes[0,2].set(xlabel = \"Energy\")\n",
    "\n",
    "sns.histplot(ax = axes[1,0], data = X_train, x = \"instrumentalness\")\n",
    "axes[1,0].set(xlabel = \"Instrumentalness\")\n",
    "axes[1,0].axis(xmin = -0.01, xmax = 1)\n",
    "\n",
    "sns.histplot(ax = axes[1,1], data = X_train, x = \"liveness\")\n",
    "axes[1,1].set(xlabel = \"Liveness\")\n",
    "\n",
    "sns.histplot(ax = axes[1,2], data = X_train, x = \"speechiness\")\n",
    "axes[1,2].set(xlabel = \"Speechiness\")\n",
    "\n",
    "sns.histplot(ax = axes[2,0], data = X_train, x = \"valence\")\n",
    "axes[2,0].set(xlabel = \"Valence\")\n",
    "\n",
    "sns.histplot(ax = axes[2,1], data = y_train)\n",
    "axes[2,1].set(xlabel = \"Popularity\")\n",
    "\n",
    "sns.histplot(ax = axes[2,2], data = X_train, x = \"loudness\")\n",
    "axes[2,2].set(xlabel = \"Loudness\")\n",
    "\n",
    "sns.histplot(ax = axes[3,0], data = X_train, x = \"duration_min\")\n",
    "axes[3,0].set(xlabel = \"Duration (minutes)\")\n",
    "#axes[3,0].axis(xmin = 0, xmax = 15)\n",
    "\n",
    "sns.histplot(ax = axes[3,1], data = X_train, x = \"tempo\")\n",
    "axes[3,1].set(xlabel = \"Tempo\")\n",
    "\n",
    "fig.suptitle(\"Histograms\")"
   ]
  },
  {
   "cell_type": "code",
   "execution_count": 122,
   "metadata": {},
   "outputs": [
    {
     "name": "stdout",
     "output_type": "stream",
     "text": [
      "(186180, 18)\n"
     ]
    },
    {
     "data": {
      "text/html": [
       "<div>\n",
       "<style scoped>\n",
       "    .dataframe tbody tr th:only-of-type {\n",
       "        vertical-align: middle;\n",
       "    }\n",
       "\n",
       "    .dataframe tbody tr th {\n",
       "        vertical-align: top;\n",
       "    }\n",
       "\n",
       "    .dataframe thead th {\n",
       "        text-align: right;\n",
       "    }\n",
       "</style>\n",
       "<table border=\"1\" class=\"dataframe\">\n",
       "  <thead>\n",
       "    <tr style=\"text-align: right;\">\n",
       "      <th></th>\n",
       "      <th>genre</th>\n",
       "      <th>artist_name</th>\n",
       "      <th>track_name</th>\n",
       "      <th>track_id</th>\n",
       "      <th>acousticness</th>\n",
       "      <th>danceability</th>\n",
       "      <th>energy</th>\n",
       "      <th>instrumentalness</th>\n",
       "      <th>key</th>\n",
       "      <th>liveness</th>\n",
       "      <th>loudness</th>\n",
       "      <th>mode</th>\n",
       "      <th>speechiness</th>\n",
       "      <th>tempo</th>\n",
       "      <th>time_signature</th>\n",
       "      <th>valence</th>\n",
       "      <th>duration_min</th>\n",
       "      <th>popularity</th>\n",
       "    </tr>\n",
       "  </thead>\n",
       "  <tbody>\n",
       "    <tr>\n",
       "      <th>139926</th>\n",
       "      <td>Reggaeton</td>\n",
       "      <td>Justin Quiles</td>\n",
       "      <td>Confusion</td>\n",
       "      <td>6VxjlckNDezOU7w6oqFvgQ</td>\n",
       "      <td>0.119000</td>\n",
       "      <td>0.685</td>\n",
       "      <td>0.775</td>\n",
       "      <td>0.000000</td>\n",
       "      <td>D</td>\n",
       "      <td>0.1100</td>\n",
       "      <td>-6.891</td>\n",
       "      <td>Minor</td>\n",
       "      <td>0.1460</td>\n",
       "      <td>172.039</td>\n",
       "      <td>4/4</td>\n",
       "      <td>0.667</td>\n",
       "      <td>3.585917</td>\n",
       "      <td>54</td>\n",
       "    </tr>\n",
       "    <tr>\n",
       "      <th>160602</th>\n",
       "      <td>Reggaeton</td>\n",
       "      <td>Boy Wonder CF</td>\n",
       "      <td>Atrévete (feat. Wisin y Yandel &amp; Franco el Gor...</td>\n",
       "      <td>0hvi6FQl4h3zVGC2DVpohG</td>\n",
       "      <td>0.201000</td>\n",
       "      <td>0.884</td>\n",
       "      <td>0.702</td>\n",
       "      <td>0.000000</td>\n",
       "      <td>C</td>\n",
       "      <td>0.0886</td>\n",
       "      <td>-7.960</td>\n",
       "      <td>Minor</td>\n",
       "      <td>0.1000</td>\n",
       "      <td>96.005</td>\n",
       "      <td>4/4</td>\n",
       "      <td>0.803</td>\n",
       "      <td>3.946883</td>\n",
       "      <td>39</td>\n",
       "    </tr>\n",
       "    <tr>\n",
       "      <th>93667</th>\n",
       "      <td>Indie</td>\n",
       "      <td>Yeah Yeah Yeahs</td>\n",
       "      <td>Maps</td>\n",
       "      <td>0hDQV9X1Da5JrwhK8gu86p</td>\n",
       "      <td>0.000413</td>\n",
       "      <td>0.502</td>\n",
       "      <td>0.940</td>\n",
       "      <td>0.542000</td>\n",
       "      <td>G</td>\n",
       "      <td>0.5530</td>\n",
       "      <td>-5.178</td>\n",
       "      <td>Major</td>\n",
       "      <td>0.0840</td>\n",
       "      <td>119.762</td>\n",
       "      <td>4/4</td>\n",
       "      <td>0.144</td>\n",
       "      <td>3.666450</td>\n",
       "      <td>66</td>\n",
       "    </tr>\n",
       "    <tr>\n",
       "      <th>16096</th>\n",
       "      <td>Dance</td>\n",
       "      <td>Janelle Monáe</td>\n",
       "      <td>I Got The Juice (feat. Pharrell Williams)</td>\n",
       "      <td>5Yfq9uugLFchtFymQQWxgt</td>\n",
       "      <td>0.075800</td>\n",
       "      <td>0.922</td>\n",
       "      <td>0.485</td>\n",
       "      <td>0.000034</td>\n",
       "      <td>C#</td>\n",
       "      <td>0.6010</td>\n",
       "      <td>-7.259</td>\n",
       "      <td>Major</td>\n",
       "      <td>0.0960</td>\n",
       "      <td>120.156</td>\n",
       "      <td>4/4</td>\n",
       "      <td>0.395</td>\n",
       "      <td>3.771467</td>\n",
       "      <td>60</td>\n",
       "    </tr>\n",
       "    <tr>\n",
       "      <th>159668</th>\n",
       "      <td>Reggaeton</td>\n",
       "      <td>Los 4</td>\n",
       "      <td>Brindemos por Ella</td>\n",
       "      <td>6hoLlsbL9w03BdGicFZEsn</td>\n",
       "      <td>0.180000</td>\n",
       "      <td>0.626</td>\n",
       "      <td>0.887</td>\n",
       "      <td>0.000022</td>\n",
       "      <td>C#</td>\n",
       "      <td>0.0831</td>\n",
       "      <td>-4.567</td>\n",
       "      <td>Minor</td>\n",
       "      <td>0.0593</td>\n",
       "      <td>106.989</td>\n",
       "      <td>4/4</td>\n",
       "      <td>0.736</td>\n",
       "      <td>4.577333</td>\n",
       "      <td>49</td>\n",
       "    </tr>\n",
       "  </tbody>\n",
       "</table>\n",
       "</div>"
      ],
      "text/plain": [
       "            genre      artist_name  \\\n",
       "139926  Reggaeton    Justin Quiles   \n",
       "160602  Reggaeton    Boy Wonder CF   \n",
       "93667       Indie  Yeah Yeah Yeahs   \n",
       "16096       Dance    Janelle Monáe   \n",
       "159668  Reggaeton            Los 4   \n",
       "\n",
       "                                               track_name  \\\n",
       "139926                                          Confusion   \n",
       "160602  Atrévete (feat. Wisin y Yandel & Franco el Gor...   \n",
       "93667                                                Maps   \n",
       "16096           I Got The Juice (feat. Pharrell Williams)   \n",
       "159668                                 Brindemos por Ella   \n",
       "\n",
       "                      track_id  acousticness  danceability  energy  \\\n",
       "139926  6VxjlckNDezOU7w6oqFvgQ      0.119000         0.685   0.775   \n",
       "160602  0hvi6FQl4h3zVGC2DVpohG      0.201000         0.884   0.702   \n",
       "93667   0hDQV9X1Da5JrwhK8gu86p      0.000413         0.502   0.940   \n",
       "16096   5Yfq9uugLFchtFymQQWxgt      0.075800         0.922   0.485   \n",
       "159668  6hoLlsbL9w03BdGicFZEsn      0.180000         0.626   0.887   \n",
       "\n",
       "        instrumentalness key  liveness  loudness   mode  speechiness    tempo  \\\n",
       "139926          0.000000   D    0.1100    -6.891  Minor       0.1460  172.039   \n",
       "160602          0.000000   C    0.0886    -7.960  Minor       0.1000   96.005   \n",
       "93667           0.542000   G    0.5530    -5.178  Major       0.0840  119.762   \n",
       "16096           0.000034  C#    0.6010    -7.259  Major       0.0960  120.156   \n",
       "159668          0.000022  C#    0.0831    -4.567  Minor       0.0593  106.989   \n",
       "\n",
       "       time_signature  valence  duration_min  popularity  \n",
       "139926            4/4    0.667      3.585917          54  \n",
       "160602            4/4    0.803      3.946883          39  \n",
       "93667             4/4    0.144      3.666450          66  \n",
       "16096             4/4    0.395      3.771467          60  \n",
       "159668            4/4    0.736      4.577333          49  "
      ]
     },
     "execution_count": 122,
     "metadata": {},
     "output_type": "execute_result"
    }
   ],
   "source": [
    "# merging the x and y frames to get one single data-frame\n",
    "train_data = pd.concat([X_train, y_train], axis = 1)\n",
    "print(train_data.shape)\n",
    "train_data.head()"
   ]
  },
  {
   "cell_type": "markdown",
   "metadata": {},
   "source": [
    "### 2. Correlation heatmap"
   ]
  },
  {
   "cell_type": "code",
   "execution_count": 142,
   "metadata": {},
   "outputs": [
    {
     "data": {
      "text/plain": [
       "Text(0.5, 0.98, 'Pearson corelations')"
      ]
     },
     "execution_count": 142,
     "metadata": {},
     "output_type": "execute_result"
    },
    {
     "data": {
      "image/png": "[encoded data removed]",
      "text/plain": [
       "<Figure size 792x648 with 2 Axes>"
      ]
     },
     "metadata": {},
     "output_type": "display_data"
    }
   ],
   "source": [
    "#generating a correlation plot\n",
    "corr = train_data.corr()\n",
    "mask = np.triu(np.ones_like(corr, dtype=bool))\n",
    "f, ax = plt.subplots(figsize=(11, 9))\n",
    "cmap = sns.diverging_palette(230, 20, as_cmap=True)\n",
    "fig = sns.heatmap(corr, mask=mask, cmap=cmap, vmax=.3, center=0,\n",
    "            square=True, linewidths=.5, cbar_kws={\"shrink\": .5})\n",
    "\n",
    "f.suptitle(\"Pearson corelations\")"
   ]
  },
  {
   "cell_type": "code",
   "execution_count": 125,
   "metadata": {},
   "outputs": [
    {
     "data": {
      "text/plain": [
       "array(['Movie', 'R&B', 'A Capella', 'Alternative', 'Country', 'Dance',\n",
       "       'Electronic', 'Anime', 'Folk', 'Blues', 'Opera', 'Hip-Hop',\n",
       "       \"Children's Music\", 'Children’s Music', 'Rap', 'Indie',\n",
       "       'Classical', 'Pop', 'Reggae', 'Reggaeton', 'Jazz', 'Rock', 'Ska',\n",
       "       'Comedy', 'Soul', 'Soundtrack', 'World'], dtype=object)"
      ]
     },
     "execution_count": 125,
     "metadata": {},
     "output_type": "execute_result"
    }
   ],
   "source": [
    "# the unique genres in the dataset\n",
    "data[\"genre\"].unique()"
   ]
  },
  {
   "cell_type": "markdown",
   "metadata": {},
   "source": [
    "**CHAN'S REMARKS**: This data not only contains music but also other audios (like talkshows, podcasts, audiobooks and poetry), as derived from the \n",
    "variable Speechiness."
   ]
  }
 ],
 "metadata": {
  "kernelspec": {
   "display_name": "Python 3",
   "language": "python",
   "name": "python3"
  },
  "language_info": {
   "codemirror_mode": {
    "name": "ipython",
    "version": 3
   },
   "file_extension": ".py",
   "mimetype": "text/x-python",
   "name": "python",
   "nbconvert_exporter": "python",
   "pygments_lexer": "ipython3",
   "version": "3.7.4"
  }
 },
 "nbformat": 4,
 "nbformat_minor": 4
}
