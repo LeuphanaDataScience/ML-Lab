{
 "cells": [
  {
   "cell_type": "markdown",
   "metadata": {},
   "source": [
    "# POPULARITY PREDICTION BASED ON SONG FEATURES - SPOTIFY"
   ]
  },
  {
   "cell_type": "markdown",
   "metadata": {},
   "source": [
    "**Shaurya D. Singh, Lisa Schönrock, Chân Lê**"
   ]
  },
  {
   "cell_type": "code",
   "execution_count": null,
   "metadata": {},
   "outputs": [],
   "source": []
  },
  {
   "cell_type": "code",
   "execution_count": null,
   "metadata": {},
   "outputs": [],
   "source": []
  },
  {
   "cell_type": "code",
   "execution_count": 2,
   "metadata": {},
   "outputs": [],
   "source": [
    "import pandas as pd\n",
    "import seaborn as sns\n",
    "import matplotlib.pyplot as plt\n",
    "\n",
    "sns.set(style = \"whitegrid\")"
   ]
  },
  {
   "cell_type": "markdown",
   "metadata": {},
   "source": [
    "Load in data & basic look"
   ]
  },
  {
   "cell_type": "code",
   "execution_count": 3,
   "metadata": {},
   "outputs": [],
   "source": [
    "data = pd.DataFrame(pd.read_csv(\"data/SpotifyFeatures.csv\"))"
   ]
  },
  {
   "cell_type": "code",
   "execution_count": 4,
   "metadata": {},
   "outputs": [
    {
     "name": "stdout",
     "output_type": "stream",
     "text": [
      "Index(['genre', 'artist_name', 'track_name', 'track_id', 'popularity',\n",
      "       'acousticness', 'danceability', 'duration_ms', 'energy',\n",
      "       'instrumentalness', 'key', 'liveness', 'loudness', 'mode',\n",
      "       'speechiness', 'tempo', 'time_signature', 'valence'],\n",
      "      dtype='object')\n"
     ]
    },
    {
     "data": {
      "text/html": [
       "<div>\n",
       "<style scoped>\n",
       "    .dataframe tbody tr th:only-of-type {\n",
       "        vertical-align: middle;\n",
       "    }\n",
       "\n",
       "    .dataframe tbody tr th {\n",
       "        vertical-align: top;\n",
       "    }\n",
       "\n",
       "    .dataframe thead th {\n",
       "        text-align: right;\n",
       "    }\n",
       "</style>\n",
       "<table border=\"1\" class=\"dataframe\">\n",
       "  <thead>\n",
       "    <tr style=\"text-align: right;\">\n",
       "      <th></th>\n",
       "      <th>popularity</th>\n",
       "      <th>acousticness</th>\n",
       "      <th>danceability</th>\n",
       "      <th>duration_ms</th>\n",
       "      <th>energy</th>\n",
       "      <th>instrumentalness</th>\n",
       "      <th>liveness</th>\n",
       "      <th>loudness</th>\n",
       "      <th>speechiness</th>\n",
       "      <th>tempo</th>\n",
       "      <th>valence</th>\n",
       "    </tr>\n",
       "  </thead>\n",
       "  <tbody>\n",
       "    <tr>\n",
       "      <th>count</th>\n",
       "      <td>232725.000000</td>\n",
       "      <td>232725.000000</td>\n",
       "      <td>232725.000000</td>\n",
       "      <td>2.327250e+05</td>\n",
       "      <td>232725.000000</td>\n",
       "      <td>232725.000000</td>\n",
       "      <td>232725.000000</td>\n",
       "      <td>232725.000000</td>\n",
       "      <td>232725.000000</td>\n",
       "      <td>232725.000000</td>\n",
       "      <td>232725.000000</td>\n",
       "    </tr>\n",
       "    <tr>\n",
       "      <th>mean</th>\n",
       "      <td>41.127502</td>\n",
       "      <td>0.368560</td>\n",
       "      <td>0.554364</td>\n",
       "      <td>2.351223e+05</td>\n",
       "      <td>0.570958</td>\n",
       "      <td>0.148301</td>\n",
       "      <td>0.215009</td>\n",
       "      <td>-9.569885</td>\n",
       "      <td>0.120765</td>\n",
       "      <td>117.666585</td>\n",
       "      <td>0.454917</td>\n",
       "    </tr>\n",
       "    <tr>\n",
       "      <th>std</th>\n",
       "      <td>18.189948</td>\n",
       "      <td>0.354768</td>\n",
       "      <td>0.185608</td>\n",
       "      <td>1.189359e+05</td>\n",
       "      <td>0.263456</td>\n",
       "      <td>0.302768</td>\n",
       "      <td>0.198273</td>\n",
       "      <td>5.998204</td>\n",
       "      <td>0.185518</td>\n",
       "      <td>30.898907</td>\n",
       "      <td>0.260065</td>\n",
       "    </tr>\n",
       "    <tr>\n",
       "      <th>min</th>\n",
       "      <td>0.000000</td>\n",
       "      <td>0.000000</td>\n",
       "      <td>0.056900</td>\n",
       "      <td>1.538700e+04</td>\n",
       "      <td>0.000020</td>\n",
       "      <td>0.000000</td>\n",
       "      <td>0.009670</td>\n",
       "      <td>-52.457000</td>\n",
       "      <td>0.022200</td>\n",
       "      <td>30.379000</td>\n",
       "      <td>0.000000</td>\n",
       "    </tr>\n",
       "    <tr>\n",
       "      <th>25%</th>\n",
       "      <td>29.000000</td>\n",
       "      <td>0.037600</td>\n",
       "      <td>0.435000</td>\n",
       "      <td>1.828570e+05</td>\n",
       "      <td>0.385000</td>\n",
       "      <td>0.000000</td>\n",
       "      <td>0.097400</td>\n",
       "      <td>-11.771000</td>\n",
       "      <td>0.036700</td>\n",
       "      <td>92.959000</td>\n",
       "      <td>0.237000</td>\n",
       "    </tr>\n",
       "    <tr>\n",
       "      <th>50%</th>\n",
       "      <td>43.000000</td>\n",
       "      <td>0.232000</td>\n",
       "      <td>0.571000</td>\n",
       "      <td>2.204270e+05</td>\n",
       "      <td>0.605000</td>\n",
       "      <td>0.000044</td>\n",
       "      <td>0.128000</td>\n",
       "      <td>-7.762000</td>\n",
       "      <td>0.050100</td>\n",
       "      <td>115.778000</td>\n",
       "      <td>0.444000</td>\n",
       "    </tr>\n",
       "    <tr>\n",
       "      <th>75%</th>\n",
       "      <td>55.000000</td>\n",
       "      <td>0.722000</td>\n",
       "      <td>0.692000</td>\n",
       "      <td>2.657680e+05</td>\n",
       "      <td>0.787000</td>\n",
       "      <td>0.035800</td>\n",
       "      <td>0.264000</td>\n",
       "      <td>-5.501000</td>\n",
       "      <td>0.105000</td>\n",
       "      <td>139.054000</td>\n",
       "      <td>0.660000</td>\n",
       "    </tr>\n",
       "    <tr>\n",
       "      <th>max</th>\n",
       "      <td>100.000000</td>\n",
       "      <td>0.996000</td>\n",
       "      <td>0.989000</td>\n",
       "      <td>5.552917e+06</td>\n",
       "      <td>0.999000</td>\n",
       "      <td>0.999000</td>\n",
       "      <td>1.000000</td>\n",
       "      <td>3.744000</td>\n",
       "      <td>0.967000</td>\n",
       "      <td>242.903000</td>\n",
       "      <td>1.000000</td>\n",
       "    </tr>\n",
       "  </tbody>\n",
       "</table>\n",
       "</div>"
      ],
      "text/plain": [
       "          popularity   acousticness   danceability   duration_ms  \\\n",
       "count  232725.000000  232725.000000  232725.000000  2.327250e+05   \n",
       "mean       41.127502       0.368560       0.554364  2.351223e+05   \n",
       "std        18.189948       0.354768       0.185608  1.189359e+05   \n",
       "min         0.000000       0.000000       0.056900  1.538700e+04   \n",
       "25%        29.000000       0.037600       0.435000  1.828570e+05   \n",
       "50%        43.000000       0.232000       0.571000  2.204270e+05   \n",
       "75%        55.000000       0.722000       0.692000  2.657680e+05   \n",
       "max       100.000000       0.996000       0.989000  5.552917e+06   \n",
       "\n",
       "              energy  instrumentalness       liveness       loudness  \\\n",
       "count  232725.000000     232725.000000  232725.000000  232725.000000   \n",
       "mean        0.570958          0.148301       0.215009      -9.569885   \n",
       "std         0.263456          0.302768       0.198273       5.998204   \n",
       "min         0.000020          0.000000       0.009670     -52.457000   \n",
       "25%         0.385000          0.000000       0.097400     -11.771000   \n",
       "50%         0.605000          0.000044       0.128000      -7.762000   \n",
       "75%         0.787000          0.035800       0.264000      -5.501000   \n",
       "max         0.999000          0.999000       1.000000       3.744000   \n",
       "\n",
       "         speechiness          tempo        valence  \n",
       "count  232725.000000  232725.000000  232725.000000  \n",
       "mean        0.120765     117.666585       0.454917  \n",
       "std         0.185518      30.898907       0.260065  \n",
       "min         0.022200      30.379000       0.000000  \n",
       "25%         0.036700      92.959000       0.237000  \n",
       "50%         0.050100     115.778000       0.444000  \n",
       "75%         0.105000     139.054000       0.660000  \n",
       "max         0.967000     242.903000       1.000000  "
      ]
     },
     "execution_count": 4,
     "metadata": {},
     "output_type": "execute_result"
    }
   ],
   "source": [
    "print(data.columns)\n",
    "data.describe()"
   ]
  },
  {
   "cell_type": "markdown",
   "metadata": {},
   "source": [
    "Check for missing data, found none."
   ]
  },
  {
   "cell_type": "code",
   "execution_count": 5,
   "metadata": {},
   "outputs": [
    {
     "data": {
      "text/plain": [
       "genre               0\n",
       "artist_name         0\n",
       "track_name          0\n",
       "track_id            0\n",
       "popularity          0\n",
       "acousticness        0\n",
       "danceability        0\n",
       "duration_ms         0\n",
       "energy              0\n",
       "instrumentalness    0\n",
       "key                 0\n",
       "liveness            0\n",
       "loudness            0\n",
       "mode                0\n",
       "speechiness         0\n",
       "tempo               0\n",
       "time_signature      0\n",
       "valence             0\n",
       "dtype: int64"
      ]
     },
     "execution_count": 5,
     "metadata": {},
     "output_type": "execute_result"
    }
   ],
   "source": [
    "data.isnull().sum()"
   ]
  },
  {
   "cell_type": "markdown",
   "metadata": {},
   "source": [
    "## II. Visualization "
   ]
  },
  {
   "cell_type": "markdown",
   "metadata": {},
   "source": [
    "### 1. Histograms"
   ]
  },
  {
   "cell_type": "markdown",
   "metadata": {},
   "source": [
    "Boxplot for all other metrics whose range is [0,1]. The followings are the variables description:\n",
    "\n",
    "- **Acousticness**: A confidence measure from 0.0 to 1.0 of whether the track is acoustic. 1.0 represents high confidence the track is acoustic.\n",
    "- **Danceability**: Danceability describes how suitable a track is for dancing based on a combination of musical elements including tempo, rhythm stability, beat strength, and overall regularity. A value of 0.0 is least danceable and 1.0 is most danceable.\n",
    "- **Energy**: Energy is a measure from 0.0 to 1.0 and represents a perceptual measure of intensity and activity. Typically, energetic tracks feel fast, loud, and noisy. For example, death metal has high energy, while a Bach prelude scores low on the scale. Perceptual features contributing to this attribute include dynamic range, perceived loudness, timbre, onset rate, and general entropy.\n",
    "- **Instrumentalness**: Predicts whether a track contains no vocals. “Ooh” and “aah” sounds are treated as instrumental in this context. Rap or spoken word tracks are clearly “vocal”. The closer the instrumentalness value is to 1.0, the greater likelihood the track contains no vocal content. Values above 0.5 are intended to represent instrumental tracks, but confidence is higher as the value approaches 1.0.\n",
    "- **Liveness**: Detects the presence of an audience in the recording. Higher liveness values represent an increased probability that the track was performed live. A value above 0.8 provides strong likelihood that the track is live.\n",
    "- **Speechiness**: Speechiness detects the presence of spoken words in a track. The more exclusively speech-like the recording (e.g. talk show, audio book, poetry), the closer to 1.0 the attribute value. Values above 0.66 describe tracks that are probably made entirely of spoken words. Values between 0.33 and 0.66 describe tracks that may contain both music and speech, either in sections or layered, including such cases as rap music. Values below 0.33 most likely represent music and other non-speech-like tracks.\n",
    "- **Valence**: A measure from 0.0 to 1.0 describing the musical positiveness conveyed by a track. Tracks with high valence sound more positive (e.g. happy, cheerful, euphoric), while tracks with low valence sound more negative (e.g. sad, depressed, angry). \n"
   ]
  },
  {
   "cell_type": "code",
   "execution_count": 46,
   "metadata": {},
   "outputs": [
    {
     "data": {
      "image/png": "[encoded data removed]",
      "text/plain": [
       "<Figure size 1008x576 with 1 Axes>"
      ]
     },
     "metadata": {},
     "output_type": "display_data"
    }
   ],
   "source": [
    "metrics = [\"acousticness\",\"danceability\",\"energy\",\"instrumentalness\",\"liveness\",\"speechiness\",\"valence\"]\n",
    "plt.figure(figsize = (14, 8))\n",
    "figBoxplot = sns.boxplot(data = data[metrics], showfliers = False) #hide outliers"
   ]
  },
  {
   "cell_type": "markdown",
   "metadata": {},
   "source": [
    "We plot the other continuous variables whose range is not [0,1]. The followings are the variables description:\n",
    "\n",
    "- **Popularity**: Our target variable. The popularity is calculated by algorithm and is based, in the most part, on the total number of plays the track has had and how recent those plays are. Generally speaking, songs that are being played a lot now will have a higher popularity than songs that were played a lot in the past. Duplicate tracks (e.g. the same track from a single and an album) are rated independently. Artist and album popularity is derived mathematically from track popularity. Note that the popularity value may lag actual popularity by a few days: the value is not updated in real time.\n",
    "- **Loudness**: The overall loudness of a track in decibels (dB). Loudness values are averaged across the entire track and are useful for comparing relative loudness of tracks. Loudness is the quality of a sound that is the primary psychological correlate of physical strength (amplitude).\n",
    "- **Duration**: The duration of the track in minutes.\n",
    "- **Tempo**: The overall estimated tempo of a track in beats per minute (BPM). In musical terminology, tempo is the speed or pace of a given piece and derives directly from the average beat duration. "
   ]
  },
  {
   "cell_type": "code",
   "execution_count": 12,
   "metadata": {},
   "outputs": [
    {
     "data": {
      "text/plain": [
       "Text(0.5, 0.98, 'Variables in other scales')"
      ]
     },
     "execution_count": 12,
     "metadata": {},
     "output_type": "execute_result"
    },
    {
     "data": {
      "image/png": "[encoded data removed]",
      "text/plain": [
       "<Figure size 864x504 with 4 Axes>"
      ]
     },
     "metadata": {},
     "output_type": "display_data"
    }
   ],
   "source": [
    "# Transform Duration into minutes\n",
    "data[\"duration_min\"] = data[\"duration_ms\"] / (1000 * 60)\n",
    "\n",
    "fig, axes = plt.subplots(nrows = 2, ncols = 2, figsize = (12, 7))\n",
    "\n",
    "sns.histplot(ax = axes[0,0], data = data, x = \"popularity\")\n",
    "axes[0,0].set(xlabel = \"Popularity\")\n",
    "\n",
    "sns.histplot(ax = axes[0,1], data = data, x = \"loudness\")\n",
    "axes[0,1].set(xlabel = \"Loudness\")\n",
    "\n",
    "sns.histplot(ax = axes[1,0], data = data, x = \"duration_min\")\n",
    "axes[1,0].axis(xmin = 0, xmax = 15)\n",
    "axes[1,0].set(xlabel = \"Duration (minute)\")\n",
    "\n",
    "sns.histplot(ax = axes[1,1], data = data, x = \"tempo\")\n",
    "axes[1,1].set(xlabel = \"Tempo\")\n",
    "\n",
    "fig.suptitle(\"Variables in other scales\")"
   ]
  },
  {
   "cell_type": "markdown",
   "metadata": {},
   "source": [
    "**CHAN'S REMARKS**: This data not only contains music but also other audios (like talkshows, audiobooks and poetry), as derived from variable Speechiness."
   ]
  },
  {
   "cell_type": "code",
   "execution_count": 16,
   "metadata": {},
   "outputs": [
    {
     "data": {
      "text/plain": [
       "array(['Movie', 'R&B', 'A Capella', 'Alternative', 'Country', 'Dance',\n",
       "       'Electronic', 'Anime', 'Folk', 'Blues', 'Opera', 'Hip-Hop',\n",
       "       \"Children's Music\", 'Children’s Music', 'Rap', 'Indie',\n",
       "       'Classical', 'Pop', 'Reggae', 'Reggaeton', 'Jazz', 'Rock', 'Ska',\n",
       "       'Comedy', 'Soul', 'Soundtrack', 'World'], dtype=object)"
      ]
     },
     "execution_count": 16,
     "metadata": {},
     "output_type": "execute_result"
    }
   ],
   "source": [
    "data[\"genre\"].unique()"
   ]
  }
 ],
 "metadata": {
  "kernelspec": {
   "display_name": "Python 3",
   "language": "python",
   "name": "python3"
  },
  "language_info": {
   "codemirror_mode": {
    "name": "ipython",
    "version": 3
   },
   "file_extension": ".py",
   "mimetype": "text/x-python",
   "name": "python",
   "nbconvert_exporter": "python",
   "pygments_lexer": "ipython3",
   "version": "3.7.6"
  }
 },
 "nbformat": 4,
 "nbformat_minor": 4
}
